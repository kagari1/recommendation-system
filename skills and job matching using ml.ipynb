{
 "cells": [
  {
   "cell_type": "code",
   "execution_count": 3,
   "id": "227ea11f",
   "metadata": {},
   "outputs": [],
   "source": [
    "packet = 'C:/Users/AIDA/Documents/les cv/My resume.pdf.pdf'"
   ]
  },
  {
   "cell_type": "code",
   "execution_count": 4,
   "id": "e3836bd3",
   "metadata": {},
   "outputs": [],
   "source": [
    "import io\n"
   ]
  },
  {
   "cell_type": "code",
   "execution_count": 5,
   "id": "26fa65c5",
   "metadata": {},
   "outputs": [],
   "source": [
    "\n",
    "import PyPDF2\n",
    "with open(packet, \"rb\") as pdf_file:\n",
    "        \n",
    "        read_pdf = PyPDF2.PdfFileReader(pdf_file)\n",
    "        number_of_pages = read_pdf.getNumPages()\n",
    "        page = read_pdf.pages[0]\n",
    "        page_content = page.extractText() "
   ]
  },
  {
   "cell_type": "code",
   "execution_count": 6,
   "id": "615351eb",
   "metadata": {},
   "outputs": [
    {
     "name": "stdout",
     "output_type": "stream",
     "text": [
      "HAMID ABDELLAOUI\n",
      "DATA SCIENCE STUDENT\n",
      "Programming: Python, R, SQL, SAS, JS\n",
      "Python Libraries: Keras, Flask, Dash,\n",
      "Seaborn, Scikit-Learn, Spacy,\n",
      "SARIMAX, Statmodels... \n",
      "Databases: MySQL, PostgreSQL,\n",
      "MongoDB \n",
      "Tools & others :Jupyter, EXCEL, DBMS\n",
      "( pgAdmin, MySql ,PhpMyadmin), UML,\n",
      "Git / Github , MERISE, Linux, Azure,\n",
      "Docker, Airflow, Agile, DevOps\n",
      "Web DéveloppementSKILLS212-606-198-277\n",
      "Rabat & Kenitra, Maroch.abdellaoui@insea.ac.ma\n",
      "github.com/Hamid-abdellaoui/\n",
      "PARASCOLAIRE\n",
      "Membre de cellule partenariat et\n",
      "participant actif dans différentes\n",
      "activités, création et mise à jour\n",
      "régulier du website de club09/2020 - Présen INSEA CHARITY \n",
      "Chef de cellule EVENTSINSEA IT CLUB08/2020 - PrésenCERTIFICATSSTOCKS PREDICTION USING PYTHON & ML\n",
      "Jupyter, numpy, pandas , matplotlib, sklearn, keras, LSTMRECENT PROJETS \n",
      "A responsive web dash app deployed in Herokuapp:Dash\n",
      "plotly, bootstrap-dash-compenentsVISUALISATION OF MOROCCAN EXCHANGE DATA\n",
      "DATA-AT-ANZ: AN ONLINE INTERNSHIP PROGRAM\n",
      "Exploratory Data Analysis, regression, decision-tree prediction\n",
      "model\n",
      "A flask based app that allow you train a model without coding\n",
      "Flask, sickit-learn, html & css & bootstrap.. WEB APP TO AUTOMATE RUNNING ML MODELS \n",
      "Data at ANZ Program - ANZ.\n",
      "Scientific Computing with Python - freeCodeCamp.\n",
      "Fundamentals of Deep Learning (NVIDIA DEEP LEARNING\n",
      "INSTITUTE) - NVIDIA.\n",
      "Database Programming with SQL - Oracle.\n",
      "Getting Started with SAS Programming - SAS.\n",
      "Data Analytics Professional Certificate - GOOGLE (en cours)EDUCATION\n",
      "Cycle d’ingénieur en Data Science (Since September 2020)L’INSTITUT NATIONAL DE STATISTIQUE ET ÉCONOMIE APPLIQUÉE\n",
      "Classes préparatoires au grandes écoles MPSI /MP (Sep 2018- jul 2020)CPGE MOHAMMED VI, KÉNITRA\n",
      "EXPERIENCE\n",
      "Ministry of agriculture and Fisheries, Rabat, July- Aug 2021DATA SCIENCE & MACHINE LEARNING INTERN\n",
      "Crop Yield Forecasting using time series models (SARIMAX,\n",
      "LSTM, VAR)linkedin.com/in/hamid-abdellaoui\n"
     ]
    }
   ],
   "source": [
    "print(page_content)"
   ]
  },
  {
   "cell_type": "code",
   "execution_count": 11,
   "id": "a8f5da4c",
   "metadata": {},
   "outputs": [],
   "source": [
    "import re\n",
    "\n",
    "def extract_mobile_number(text):\n",
    "    phone = re.findall(re.compile(r'(?:(?:\\+?([1-9]|[0-9][0-9]|[0-9][0-9][0-9])\\s*(?:[.-]\\s*)?)?(?:\\(\\s*([2-9]1[02-9]|[2-9][02-8]1|[2-9][02-8][02-9])\\s*\\)|([0-9][1-9]|[0-9]1[02-9]|[2-9][02-8]1|[2-9][02-8][02-9]))\\s*(?:[.-]\\s*)?)?([2-9]1[02-9]|[2-9][02-9]1|[2-9][02-9]{2})\\s*(?:[.-]\\s*)?([0-9]{4})(?:\\s*(?:#|x\\.?|ext\\.?|extension)\\s*(\\d+))?'), text)\n",
    "    \n",
    "    if phone:\n",
    "        number = ''.join(phone[0])\n",
    "        if len(number) > 10:\n",
    "            return '+' + number\n",
    "        else:\n",
    "            return number\n",
    "        \n",
    "        \n",
    "        \n"
   ]
  },
  {
   "cell_type": "code",
   "execution_count": 14,
   "id": "4e85a12e",
   "metadata": {},
   "outputs": [],
   "source": [
    "import re\n",
    "\n",
    "def extract_email(email):\n",
    "    email = re.findall(\"([^@|\\s]+@[^@]+\\.[^@|\\s]+)\", email)\n",
    "    if email:\n",
    "        try:\n",
    "            return email[0].split()[0].strip(';')\n",
    "        except IndexError:\n",
    "            return None\n"
   ]
  },
  {
   "cell_type": "code",
   "execution_count": 15,
   "id": "ce7c3fde",
   "metadata": {},
   "outputs": [
    {
     "data": {
      "text/plain": [
       "'Maroch.abdellaoui@insea.ac.ma'"
      ]
     },
     "execution_count": 15,
     "metadata": {},
     "output_type": "execute_result"
    }
   ],
   "source": [
    "extract_email(page_content)"
   ]
  },
  {
   "cell_type": "code",
   "execution_count": 68,
   "id": "a00c70e8",
   "metadata": {},
   "outputs": [],
   "source": [
    "import pandas as pd\n",
    "import spacy\n",
    "\n",
    "# load pre-trained model\n",
    "nlp = spacy.load('en_core_web_sm')\n",
    "SKILLS_DB = [\n",
    "    'MACHINE LEARNING',\n",
    "    'MERISE',\n",
    "    'python',\n",
    "    'Azure',\n",
    "    'excel',\n",
    "    'English',\n",
    "    'Jupyter',\n",
    "  'PhpMyadmin',\n",
    "'numpy', 'pandas' , 'matplotlib', 'sklearn', 'keras',\n",
    "'Microsoft Office Skills',\n",
    "'SAS',\n",
    "'QuickBooks',\n",
    "'Salesforce',\n",
    "'Calendar Management',\n",
    "'Computer Skills',\n",
    "'Communication',\n",
    "'Product Knowledge',\n",
    "'Lead Qualification',\n",
    "'Lead Prospecting' ,\n",
    "'Customer Needs Analysis',\n",
    "'CRM Software (Salesforce, Hubspot, Zoho, Freshsales)'\n",
    "  ]\n",
    "\n",
    "def extract_skills(resume_text):\n",
    "    nlp_text = nlp(resume_text)\n",
    "\n",
    "    # removing stop words and implementing word tokenization\n",
    "    tokens = [token.text for token in nlp_text if not token.is_stop]\n",
    "    \n",
    "    skillset = []\n",
    "    \n",
    "    # check for one-grams (example: python)\n",
    "    for token in tokens:\n",
    "        if token.lower() in SKILLS_DB:\n",
    "            skillset.append(token)\n",
    "    \n",
    "    # check for bi-grams and tri-grams (example: machine learning)\n",
    "    doc=nlp_text\n",
    "    for token in doc.noun_chunks:\n",
    "        token = token.text.lower().strip()\n",
    "        if token in SKILLS_DB:\n",
    "            skillset.append(token)\n",
    "    \n",
    "    return [i.capitalize() for i in set([i.lower() for i in skillset])]"
   ]
  },
  {
   "cell_type": "code",
   "execution_count": 108,
   "id": "65e5406b",
   "metadata": {},
   "outputs": [
    {
     "data": {
      "text/plain": [
       "['Pandas', 'Python', 'Matplotlib', 'Numpy', 'Excel', 'Sklearn', 'Keras']"
      ]
     },
     "execution_count": 108,
     "metadata": {},
     "output_type": "execute_result"
    }
   ],
   "source": [
    "extract_skills(page_content)"
   ]
  },
  {
   "cell_type": "code",
   "execution_count": 22,
   "id": "d6756bb5",
   "metadata": {},
   "outputs": [],
   "source": [
    "import re\n",
    "import spacy\n",
    "from nltk.corpus import stopwords\n",
    "\n",
    "# load pre-trained model\n",
    "nlp = spacy.load('en_core_web_sm')\n",
    "\n",
    "# Grad all general stop words\n",
    "STOPWORDS = set(stopwords.words('english'))\n",
    "\n",
    "# Education Degrees\n",
    "EDUCATION = [\n",
    "            'INSEA','ENSIAS', 'EMI', 'AIAC', 'ESI', \n",
    "            'EHTP', 'EIR', 'INPT'\n",
    "        ]\n",
    "\n",
    "def extract_education(resume_text):\n",
    "    nlp_text = nlp(resume_text)\n",
    "\n",
    "    # Sentence Tokenizer\n",
    "#     nlp_text = [sent.string.strip() for sent in nlp_text.sents]\n",
    "    nlp_text = [sent.text.strip() for sent in nlp_text.sents]\n",
    "\n",
    "\n",
    "    edu = {}\n",
    "    # Extract education degree\n",
    "    for index, text in enumerate(nlp_text):\n",
    "        for tex in text.split():\n",
    "            # Replace all special symbols\n",
    "            tex = re.sub(r'[?|$|.|!|,]', r'', tex)\n",
    "            if tex.upper() in EDUCATION and tex not in STOPWORDS:\n",
    "#                 edu[tex] = text + nlp_text[index + 1]\n",
    "                  edu[tex] = text + nlp_text[index ]\n",
    "\n",
    "    # Extract year\n",
    "    education = []\n",
    "    for key in edu.keys():\n",
    "        year = re.search(re.compile(r'(((20|19)(\\d{2})))'), edu[key])\n",
    "        if year:\n",
    "            education.append((key, ''.join(year[0])))\n",
    "        else:\n",
    "            education.append(key)\n",
    "    return education\n"
   ]
  },
  {
   "cell_type": "code",
   "execution_count": 24,
   "id": "b427d099",
   "metadata": {},
   "outputs": [
    {
     "data": {
      "text/plain": [
       "[('INSEA', '2020')]"
      ]
     },
     "execution_count": 24,
     "metadata": {},
     "output_type": "execute_result"
    }
   ],
   "source": [
    "extract_education(page_content)"
   ]
  },
  {
   "cell_type": "code",
   "execution_count": 25,
   "id": "561c4002",
   "metadata": {},
   "outputs": [],
   "source": [
    "from pyresparser import ResumeParser\n",
    "import os\n",
    "from docx import Document"
   ]
  },
  {
   "cell_type": "code",
   "execution_count": 8,
   "id": "34d465c9",
   "metadata": {},
   "outputs": [],
   "source": [
    "import numpy as np\n",
    "import pandas as pd\n",
    "import nltk\n",
    "from nltk.corpus import stopwords\n",
    "stopw  = set(stopwords.words('english'))\n",
    "df =pd.read_excel('C:/Users/AIDA/LinkedIn Job Data.xlsx')\n"
   ]
  },
  {
   "cell_type": "code",
   "execution_count": 9,
   "id": "6b576111",
   "metadata": {},
   "outputs": [
    {
     "data": {
      "text/plain": [
       "\"À propos de l’offre d’emploi Drive Your Career  Lear Corporation is the leading Tier 1 automotive supplier serving all of the world's major automotive manufacturers with our world-class automotive seating and automotive electrical products. Our products are developed and produced by a diverse, talented team of more than 165,000 people. With operations in 38 countries, Lear operates in every major automotive manufacturing region in the world. For our globally positioned and successful teams, we are looking for dedicated talents with zest for action and enthusiasm. If you love challenges, want to experience development opportunities unrestrained, and want recognition that pays off, then you've come to the right place with Lear.          Lear Corporation is an Equal Opportunity Employer, committed to a diverse workplace.  Applicants must submit their resume for consideration using our applicant tracking system. Due to the high volume of applications received, only candidates selected for interviews will be contacted. Candidates must be legally authorized to work in the United States without sponsorship. Unsolicited resumes from search firms or employment agencies, or similar, will not be paid a fee and will become the property of Lear Corporation.\""
      ]
     },
     "execution_count": 9,
     "metadata": {},
     "output_type": "execute_result"
    }
   ],
   "source": [
    "df['Description'][3]"
   ]
  },
  {
   "cell_type": "code",
   "execution_count": 10,
   "id": "0c445b64",
   "metadata": {},
   "outputs": [
    {
     "name": "stderr",
     "output_type": "stream",
     "text": [
      "Using state  server backend.\n"
     ]
    },
    {
     "data": {
      "text/plain": [
       "<bound method GoogleV2.google_api of <translators.apis.GoogleV2 object at 0x0000029BAD782B60>>"
      ]
     },
     "execution_count": 10,
     "metadata": {},
     "output_type": "execute_result"
    }
   ],
   "source": [
    "google: ('common','competency','electronics','mechanics')\n",
    "import translators as ts\n",
    "ts.google"
   ]
  },
  {
   "cell_type": "code",
   "execution_count": 11,
   "id": "500b54fc",
   "metadata": {},
   "outputs": [],
   "source": [
    "translated=[]\n",
    "for i in range(20):\n",
    "    translated.append(ts.google(df['Description'][i], from_language='fr', to_language='en') )\n"
   ]
  },
  {
   "cell_type": "code",
   "execution_count": 12,
   "id": "699ce165",
   "metadata": {},
   "outputs": [
    {
     "data": {
      "text/plain": [
       "[\"About the job offer description of the startup join the new nugget of Moroccan tech! Kenz'Up is a startup launched in June 2020, funded and supported by a large Moroccan group, leader in the activity sectors of its core business and who wishes to diversify to digital financial services. Kenz'Up's ambition is to develop a range of financial services that will be used by millions of users on a daily basis and to become an essential application in the daily life of Moroccans. You will join a young and dynamic team with a very strong startup and entrepreneurial culture, working with the most advanced principles, tools and technologies in product development inspired by the greatest success Story (Google, Facebook, Spotify, Airbnb).\",\n",
       " 'Regarding the job offer attached to Delivery Lead, your mission is to: retain customers as part of outgoing & entrants. Offer a multitude of products. Advise customers by phone. Powered by Jazzhr 8oamoru8ru',\n",
       " 'Regarding the Alten Maroc job offer Fillet of the world leader in engineering and technology consultancy (ICT), with 36,100 employees in the world, including more than 950 in Morocco spread over three centers of excellence in Fez, Rabat and Casablanca, we support our customers by offering agile and innovative engineering solutions for major world principals in the automotive, aeronautics, networks & telecoms, software & tools. To join Alten Maroc is to benefit:',\n",
       " \"About the job offer Drive Your Career Lear Corporation is the leading tier 1 Automotive Supplier Serving All of the World's Major Automotive Manufacturers with our World Automotive Seating and Automotive Electrical Products. Our product are developed and produced by a diverse, talented team of more than 165,000 people. With Operations in 38 Countries, Lear Operates in Every MAJOR AUTOMOTIVE Manufacturing Region in the world. For Our Globally Positioned and Successful Teams, We Are Looking for Dedicated Talents With Zest For Action and Enthusiasm. If you Love Challenges, Want to Experience Development Opportunities Unrestrained, and Want Recognition That Pays Off, then You've Come to the right place with lear. Lear Corporation is equal opportunity employment, Committed to A Various Workplace. Applicants Must Submit their Resume for considering using a applicant tracking system. Due to the High Volume of Received Applications, Only Candidates Selected for Interviews will be contact. Candidates must be legally authorized to work in the United States Without Sponsorship. Unsolicited Resumes from Search Firms or Employment Agencies, or Similar, will not be paid a fee and will Become the Property of Lear Corporation.\",\n",
       " 'About the job offer, the Moroccan Bank for Trade and Industry (BMCI), is a Moroccan commercial bank based in Morocco and a subsidiary of the BNP Paribas group. The BMCI pursues an ambitious development policy engaged on a daily basis with its customers in order to build a real sustainable partnership, the BMCI is also involved within the community, of which it is involved through the actions of its foundation.',\n",
       " 'About the RMO Group job offer is looking for a customer (M/F) responsible for the development and loyalty of the customer portfolio in the city of Rabat. Analyze and diagnose customer needs constantly informed of products and offers offer an appropriate response in compliance with Profile management rules',\n",
       " 'About the job offer offer a multitude of products. Advise customers by phone. Guarantee the achievement of the quantitative and qualitative objectives of the project. Advantages CDI Contract remunerated training from the 1st day monthly premiums moved monthly challenges CNSS Powered by Jazzhr Niquhojpew',\n",
       " 'Regarding the job offer as part of the dismantling of our new factory in the city of Oujda, we are looking for candidates with skills, imagination and passion necessary to give life to revolutionary ideas that will change The situation. Mobility has the power to change the world and Aptiv has the power to change mobility! Sitting in Dublin, Aptiv is a global technological group that develops safer, more ecological and more connected solutions; thus constituting the future of mobility. Teamwork, result orientation and customer focus are an integral part of the values \\u200b\\u200bthat animate our company. We offer our young talents real prospects and evolution opportunities in an environment learning at national and international level. Our company is present worldwide with more than 180,000 employees in 44 united countries by a mission. ____________________________________________________________________________________________________________________________________________________________ Diversity and inclusion Are Sources of Innovation and Creativity, Both of which are essential to Aptiv’s Success. Everyday Our Diverse Team Comes Together, Drives Innovation, Pursues Solutions, and Meets Challenges Using Their Unique Abilities, Perspectives and Talents, Changing What Tomorrow BRINGS. When you Join Our Team, You’ll get encouraged to think Boldly, Express your viewpoint and innovate as a Matter of Habit. At aptiv, we don’t just see the world differently; We work to change reality. That Means Developing Technology That Rewrites The Rules of What’s possible in the Pursuit of Making Transportation Safer, Greener and More Connected. TODAY THERE ARE MORE THAN 180,000 OF US GLOBALLY, LOCATED IN 44 COUNTRIES, AND UNITED by one mission. Privacy Notice-Active candidates: https://www.aptiv.com/privacy-notice-active-candidates Aptiv is an equal employment opportunity employment. All Qualified Applicants Will Receive Consideration for Employment Without Regard to Race, Color, Religion, National Origin, Sex, Gender Identity, Sexual Orientation, Disability Status, Protected Veteran Status or Any Other Characteristic Protecté by Law.',\n",
       " 'About the RMO group job offer is recruiting a supervisor in the city of Rabat, missions advise operational staff supervising the Profile Administration',\n",
       " 'About the Levio job offer is recruiting, but this time in the Maghreb! Do you want a new challenge? Do you dream of immigrating to Quebec? Do you want to flourish in a stimulating work environment? Join the leader in digital transformation and boost your career. Levio offers you a unique opportunity to develop your know-how in a high caliber team. The variety of challenges offered by our customers will give you the opportunity to surpass yourself and maintain your expertise. Share the daily life of our customers and be in the most ambitious projects in terms of and. We are currently looking for: Do not hesitate to send us your application, we will be happy to meet you!',\n",
       " \"About the job offer, this job offer comes from a job site site. Find out more at Maxab, we restructure the food and grocery market using data -based technologies and advanced supply chains. By consolidating the supply chain process, we are able to offer not only better prices, but also to improve the way in which retailers manage their business. Maxab has obtained $ 40 million as part of a series A round, which brings the company's total investment to more than $ 60 million to date. Maxab serves more than 55,000 retailers and has processed more than a million orders. It has increased more than five times a year. Our talents in Maxab are determined to maintain the culture and values \\u200b\\u200bof Maxab while continuing to grow and improve the services offered for our customers. They innovate new ways to improve the quality of life of the Egyptian retailer and soon other retailers in the world. If you are passionate about hard work to impact and innovate new solutions, Maxab is looking for the best talents. As an accounting specialist, you will be responsible for the accuracy of cash transactions within the affected warehouse. All legal and regulatory requirements are met. financial accountant and approved by the financial director.\",\n",
       " 'About the job offer about the Job Centrale Danone is looking for its new LDD reporting and reception manager (M/F). As such, your missions will be articulated around about you a must -have actor in, we have been supporting millions of consumers day after several generations, and bring them natural and pleasure, to all stages of their lives, our flagship brands Danone , Centrale, Jamila, Danette ... Thanks to our capacity for innovation, the know-how of our employees and the modernization of our constantly evolving production tool, we have made total quality our business culture. In, we have a mission to bring quality nutrition to as many people as possible. If you also want to do yours, join us and actively contribute to the development of our brands!',\n",
       " 'Regarding the job offer your daily missions under the management of the director of the business center, the company customer advisor is responsible for the operation and development of a portfolio of customers and prospects on the market for Companies under optimized conditions in terms of risk and profitability. As such, he is responsible for achieving the commercial objectives defined to him in terms of: at Société Générale, we are convinced that people are the engines of change, and that the world of tomorrow will be made of all their initiatives, From the smallest to the most ambitious. Whether you joined us for a few months, a few years or your entire career, together we have the means to have a positive impact on the future. Creating, daring, innovating, undertaking are part of our DNA. If you too want to be in action, evolve in a stimulating and benevolent environment, feel useful on a daily basis and develop or strengthen your expertise, we are made to meet us! Do you still hesitate? Know that our employees can commit a few days a year for solidarity actions on their working time: sponsor people in difficulty in their orientation or professional integration, participate in the financial education of young people in apprenticeship or even share their skills with an association. The commitment formats are multiple.',\n",
       " 'Regarding the Société Générale - Africa Technologies & Services job offer recruits an analyst trading (M / F) Missions: the team, in close collaboration with the trading analysts / assistants in Paris and London, has Support trading teams in monitoring and developing their activities as well as managing their risks. Concretely, you will be brought to:',\n",
       " 'Regarding the job offer business unit stament to support our business strategy and digital transformation, axa is settting up a new information security practice to ensure a coordinated responsibility to the increding threat of cybersecurity, ENABLING consist decision-Making across the Organization . Our vision of information security is to protect our stakeholders by securing our information resources, managing Our cyber risks and effective and efficient business strategies that are fully sponsored by executives and supported by all axa employers.',\n",
       " 'Regarding the job offer Description of the service: ensuring the role of functional leader of a development feature team in a synchronized agility organization, it is the functional guarantor of the deliverables made by the team. Therefore, he takes care of impact analyzes, functional studies, specifications and test phases. It also supports developers on the functional aspects of the solution, takes care of the analyzes of Defect in order to identify the source and consolidate the root causes analysis. He will also have to synchronize with his PO and with the other functional leaders of the other Teams features in order to have a global coherence on the product.',\n",
       " 'About the job offer Job Description: Your mission implemented the medical strategy in order to develop the prescription and recommendation of brands by health professionals, to develop sales',\n",
       " 'Regarding the AXA Insurance Maroc job offer is recruiting on behalf of its Direction Operations & Life and Health Offers / Sinistres Health UN / A LEAD Cell Compensation Health: Missions of the position:',\n",
       " 'Regarding the job offer your daily missions Main function The CCE manages a client business portfolio in good conditions of risk and profitability. He guarantees the quality of processing of his customers and manager of the commercial performance of its portfolio. As such: business skills: behavioral skills: at Société Générale, we are convinced that people are engines of change, and that the world of tomorrow will be made of all their initiatives, from the smallest to the most ambitious. Whether you joined us for a few months, a few years or your entire career, together we have the means to have a positive impact on the future. Creating, daring, innovating, undertaking are part of our DNA. If you too want to be in action, evolve in a stimulating and benevolent environment, feel useful on a daily basis and develop or strengthen your expertise, we are made to meet us!',\n",
       " 'Regarding the job offer Advantages CDI Contract Remunerated training from the 1st day monthly premiums moved monthly challenges CNSS Powered by Jazzhr 9qygw1pehr']"
      ]
     },
     "execution_count": 12,
     "metadata": {},
     "output_type": "execute_result"
    }
   ],
   "source": [
    "translated"
   ]
  },
  {
   "cell_type": "code",
   "execution_count": 7,
   "id": "5105023a",
   "metadata": {},
   "outputs": [],
   "source": [
    "for i in range(20):\n",
    "    df['Description'][i]=translated[i]"
   ]
  },
  {
   "cell_type": "code",
   "execution_count": 13,
   "id": "949bf855",
   "metadata": {},
   "outputs": [
    {
     "data": {
      "text/plain": [
       "\"About the job offer Drive Your Career Lear Corporation is the leading tier 1 Automotive Supplier Serving All of the World's Major Automotive Manufacturers with our World Automotive Seating and Automotive Electrical Products. Our product are developed and produced by a diverse, talented team of more than 165,000 people. With Operations in 38 Countries, Lear Operates in Every MAJOR AUTOMOTIVE Manufacturing Region in the world. For Our Globally Positioned and Successful Teams, We Are Looking for Dedicated Talents With Zest For Action and Enthusiasm. If you Love Challenges, Want to Experience Development Opportunities Unrestrained, and Want Recognition That Pays Off, then You've Come to the right place with lear. Lear Corporation is equal opportunity employment, Committed to A Various Workplace. Applicants Must Submit their Resume for considering using a applicant tracking system. Due to the High Volume of Received Applications, Only Candidates Selected for Interviews will be contact. Candidates must be legally authorized to work in the United States Without Sponsorship. Unsolicited Resumes from Search Firms or Employment Agencies, or Similar, will not be paid a fee and will Become the Property of Lear Corporation.\""
      ]
     },
     "execution_count": 13,
     "metadata": {},
     "output_type": "execute_result"
    }
   ],
   "source": [
    "df['Description'][3]=translated[3]\n",
    "df['Description'][3]"
   ]
  },
  {
   "cell_type": "code",
   "execution_count": 15,
   "id": "242052b3",
   "metadata": {},
   "outputs": [],
   "source": [
    "from nltk.stem import PorterStemmer\n",
    "e_words= df['Description'][3]\n",
    "ps =PorterStemmer()\n",
    "msg=\"\"\n",
    "for w in e_words:\n",
    "    rootWord=ps.stem(w)\n",
    "    msg +=rootWord"
   ]
  },
  {
   "cell_type": "code",
   "execution_count": 16,
   "id": "0a61aa0d",
   "metadata": {},
   "outputs": [],
   "source": [
    "df['Description'][3]=msg"
   ]
  },
  {
   "cell_type": "code",
   "execution_count": 17,
   "id": "13be2f41",
   "metadata": {},
   "outputs": [
    {
     "data": {
      "text/plain": [
       "\"about the job offer drive your career lear corporation is the leading tier 1 automotive supplier serving all of the world's major automotive manufacturers with our world automotive seating and automotive electrical products. our product are developed and produced by a diverse, talented team of more than 165,000 people. with operations in 38 countries, lear operates in every major automotive manufacturing region in the world. for our globally positioned and successful teams, we are looking for dedicated talents with zest for action and enthusiasm. if you love challenges, want to experience development opportunities unrestrained, and want recognition that pays off, then you've come to the right place with lear. lear corporation is equal opportunity employment, committed to a various workplace. applicants must submit their resume for considering using a applicant tracking system. due to the high volume of received applications, only candidates selected for interviews will be contact. candidates must be legally authorized to work in the united states without sponsorship. unsolicited resumes from search firms or employment agencies, or similar, will not be paid a fee and will become the property of lear corporation.\""
      ]
     },
     "execution_count": 17,
     "metadata": {},
     "output_type": "execute_result"
    }
   ],
   "source": [
    "df['Description'][3]"
   ]
  },
  {
   "cell_type": "code",
   "execution_count": 10,
   "id": "93960c5b",
   "metadata": {},
   "outputs": [],
   "source": [
    "df['Description'][3]=\"about job offer drive your career lear corporation leading tier automotive supplier serving all world's major automotive manufacturers world automotive seating automotive electrical products. our product developed produced diverse, talented team 165,000 people. with operations countries, lear operates every major automotive manufacturing region world. for our globally positioned successful teams, are looking dedicated talents with zest for action enthusiasm. love challenges, want experience development opportunities unrestrained, want recognition that pays off, you've come right place lear. lear corporation equal opportunity employment, committed various workplace. applicants must submit resume considering using applicant tracking system. due high volume received applications, only candidates selected interviews contact. candidates must legally authorized work united states without sponsorship. unsolicited resumes search firms employment agencies, similar, paid fee become property lear corporation.\""
   ]
  },
  {
   "cell_type": "code",
   "execution_count": 1,
   "id": "4652df38",
   "metadata": {},
   "outputs": [],
   "source": [
    "from nltk.stem import WordNetLemmatizer\n",
    "lemmatizer = WordNetLemmatizer()\n",
    "  \n",
    "    \n",
    "\n"
   ]
  },
  {
   "cell_type": "code",
   "execution_count": 21,
   "id": "69573ca5",
   "metadata": {},
   "outputs": [
    {
     "data": {
      "text/plain": [
       "0      propos l’offre d’emploi Description Startup Re...\n",
       "1      propos l’offre d’emploi Rattaché Delivery Lead...\n",
       "2      propos l’offre d’emploi ALTEN MAROC filiale le...\n",
       "3      job offer drive career lear corporation leadin...\n",
       "4      propos l’offre d’emploi Banque Marocaine pour ...\n",
       "                             ...                        \n",
       "183    propos l’offre d’emploi Graduated reputable un...\n",
       "184    propos l’offre d’emploi Position Snapshot Comp...\n",
       "185    propos l’offre d’emploi Nome Local: Surrey Wey...\n",
       "186    propos l’offre d’emploi Principales missions p...\n",
       "187    propos l’offre d’emploi SkillCheck Master’s de...\n",
       "Name: test, Length: 188, dtype: object"
      ]
     },
     "execution_count": 21,
     "metadata": {},
     "output_type": "execute_result"
    }
   ],
   "source": [
    "\n",
    "df['test']=df['Description'].apply(lambda x: ' '.join([word for word in str(x).split() if len(word)>2 and word not in (stopw)]))\n",
    "df['test']"
   ]
  },
  {
   "cell_type": "code",
   "execution_count": 153,
   "id": "3a78c0f3",
   "metadata": {},
   "outputs": [
    {
     "name": "stdout",
     "output_type": "stream",
     "text": [
      "['Windows Server ', 'Linux ', 'Ubuntu', 'Java', 'JEE,', 'Routing ', 'Switching', 'WLAN ', 'Network Security', 'Cisco', 'SQL', 'Cloud']\n"
     ]
    }
   ],
   "source": [
    "resume=extract_skills(text)\n",
    "print(resume)"
   ]
  },
  {
   "cell_type": "code",
   "execution_count": 13,
   "id": "5e8006ae",
   "metadata": {},
   "outputs": [
    {
     "data": {
      "text/plain": [
       "\"about job offer drive your career lear corporation leading tier automotive supplier serving all world's major automotive manufacturers world automotive seating automotive electrical products. our product developed produced diverse, talented team 165,000 people. with operations countries, lear operates every major automotive manufacturing region world. for our globally positioned successful teams, are looking dedicated talents with zest for action enthusiasm. love challenges, want experience development opportunities unrestrained, want recognition that pays off, you've come right place lear. lear corporation equal opportunity employment, committed various workplace. applicants must submit resume considering using applicant tracking system. due high volume received applications, only candidates selected interviews contact. candidates must legally authorized work united states without sponsorship. unsolicited resumes search firms employment agencies, similar, paid fee become property lear corporation.\""
      ]
     },
     "execution_count": 13,
     "metadata": {},
     "output_type": "execute_result"
    }
   ],
   "source": [
    "df['Description'][3]"
   ]
  },
  {
   "cell_type": "code",
   "execution_count": 19,
   "id": "df1cfa68",
   "metadata": {},
   "outputs": [],
   "source": [
    "import string\n",
    "df['Description'][3]=df['Description'][3].translate(str.maketrans('', '', string.punctuation))"
   ]
  },
  {
   "cell_type": "code",
   "execution_count": 20,
   "id": "8b8a42c0",
   "metadata": {},
   "outputs": [
    {
     "data": {
      "text/plain": [
       "'about the job offer drive your career lear corporation is the leading tier 1 automotive supplier serving all of the worlds major automotive manufacturers with our world automotive seating and automotive electrical products our product are developed and produced by a diverse talented team of more than 165000 people with operations in 38 countries lear operates in every major automotive manufacturing region in the world for our globally positioned and successful teams we are looking for dedicated talents with zest for action and enthusiasm if you love challenges want to experience development opportunities unrestrained and want recognition that pays off then youve come to the right place with lear lear corporation is equal opportunity employment committed to a various workplace applicants must submit their resume for considering using a applicant tracking system due to the high volume of received applications only candidates selected for interviews will be contact candidates must be legally authorized to work in the united states without sponsorship unsolicited resumes from search firms or employment agencies or similar will not be paid a fee and will become the property of lear corporation'"
      ]
     },
     "execution_count": 20,
     "metadata": {},
     "output_type": "execute_result"
    }
   ],
   "source": [
    "df['Description'][3]"
   ]
  },
  {
   "cell_type": "code",
   "execution_count": 22,
   "id": "db017b12",
   "metadata": {},
   "outputs": [
    {
     "data": {
      "text/plain": [
       "'about the job offer drive your career lear corporation is the leading tier 1 automotive supplier serving all of the worlds major automotive manufacturers with our world automotive seating and automotive electrical products our product are developed and produced by a diverse talented team of more than 165000 people with operations in 38 countries lear operates in every major automotive manufacturing region in the world for our globally positioned and successful teams we are looking for dedicated talents with zest for action and enthusiasm if you love challenges want to experience development opportunities unrestrained and want recognition that pays off then youve come to the right place with lear lear corporation is equal opportunity employment committed to a various workplace applicants must submit their resume for considering using a applicant tracking system due to the high volume of received applications only candidates selected for interviews will be contact candidates must be legally authorized to work in the united states without sponsorship unsolicited resumes from search firms or employment agencies or similar will not be paid a fee and will become the property of lear corporation'"
      ]
     },
     "execution_count": 22,
     "metadata": {},
     "output_type": "execute_result"
    }
   ],
   "source": [
    "df['Description'][3]"
   ]
  },
  {
   "cell_type": "code",
   "execution_count": 138,
   "id": "c278e2c4",
   "metadata": {},
   "outputs": [
    {
     "data": {
      "text/plain": [
       "['Windows Server  Linux  Ubuntu Java JEE, Routing  Switching WLAN  Network Security Cisco SQL linux']"
      ]
     },
     "execution_count": 138,
     "metadata": {},
     "output_type": "execute_result"
    }
   ],
   "source": [
    "skills=[]\n",
    "skills.append(' '.join(word for word in resume))\n",
    "skills"
   ]
  },
  {
   "cell_type": "code",
   "execution_count": 139,
   "id": "e0b97bf3",
   "metadata": {},
   "outputs": [],
   "source": [
    "import re\n",
    "\n",
    "from ftfy import fix_text\n",
    "\n",
    "def ngrams(string, n=3):\n",
    "    string = fix_text(string) # fix text\n",
    "    string = string.encode(\"ascii\", errors=\"ignore\").decode() #remove non ascii chars\n",
    "    string = string.lower()\n",
    "    chars_to_remove = [\")\",\"(\",\".\",\"|\",\"[\",\"]\",\"{\",\"}\",\"'\"]\n",
    "    rx = '[' + re.escape(''.join(chars_to_remove)) + ']'\n",
    "    string = re.sub(rx, '', string)\n",
    "    string = string.replace('&', 'and')\n",
    "    string = string.replace(',', ' ')\n",
    "    string = string.replace('-', ' ')\n",
    "    string = string.title() # normalise case - capital at start of each word\n",
    "    string = re.sub(' +',' ',string).strip() # get rid of multiple spaces and replace with a single\n",
    "    string = ' '+ string +' ' # pad names for ngrams...\n",
    "    string = re.sub(r'[,-./]|\\sBD',r'', string)\n",
    "    ngrams = zip(*[string[i:] for i in range(n)])\n",
    "    return [''.join(ngram) for ngram in ngrams]"
   ]
  },
  {
   "cell_type": "code",
   "execution_count": 140,
   "id": "cebf3f92",
   "metadata": {},
   "outputs": [],
   "source": [
    "from sklearn.feature_extraction.text import TfidfVectorizer\n",
    "import re"
   ]
  },
  {
   "cell_type": "code",
   "execution_count": 141,
   "id": "54084eca",
   "metadata": {},
   "outputs": [
    {
     "name": "stdout",
     "output_type": "stream",
     "text": [
      "  (0, 13)\t0.2672612419124244\n",
      "  (0, 6)\t0.2672612419124244\n",
      "  (0, 0)\t0.2672612419124244\n",
      "  (0, 7)\t0.2672612419124244\n",
      "  (0, 4)\t0.2672612419124244\n",
      "  (0, 11)\t0.2672612419124244\n",
      "  (0, 9)\t0.2672612419124244\n",
      "  (0, 5)\t0.2672612419124244\n",
      "  (0, 1)\t0.2672612419124244\n",
      "  (0, 2)\t0.2672612419124244\n",
      "  (0, 10)\t0.2672612419124244\n",
      "  (0, 3)\t0.2672612419124244\n",
      "  (0, 8)\t0.2672612419124244\n",
      "  (0, 12)\t0.2672612419124244\n"
     ]
    }
   ],
   "source": [
    "vectorizer = TfidfVectorizer(min_df=1, analyzer='word', lowercase=False)\n",
    "tfidf = vectorizer.fit_transform(skills)\n",
    "print(tfidf)"
   ]
  },
  {
   "cell_type": "code",
   "execution_count": 142,
   "id": "ae5482b7",
   "metadata": {},
   "outputs": [
    {
     "data": {
      "text/plain": [
       "array(['Cisco', 'JEE', 'Java', 'Linux', 'Network', 'Routing', 'SQL',\n",
       "       'Security', 'Server', 'Switching', 'Ubuntu', 'WLAN', 'Windows',\n",
       "       'linux'], dtype=object)"
      ]
     },
     "execution_count": 142,
     "metadata": {},
     "output_type": "execute_result"
    }
   ],
   "source": [
    "vectorizer.get_feature_names_out()"
   ]
  },
  {
   "cell_type": "code",
   "execution_count": 147,
   "id": "9abe61fc",
   "metadata": {},
   "outputs": [
    {
     "data": {
      "text/plain": [
       "array([\"propos l’offre d’emploi Description Startup Rejoignez nouvelle pépite tech marocaine Kenz'up est une startup lancée Juin 2020, financée soutenue par grand groupe marocain, leader dans les secteurs d'activités son coeur métier qui souhaite diversifier vers les services financiers digitaux. L'ambition Kenz'up est développer une gamme services financiers qui seront utilisées par des millions d'utilisateurs manière quotidienne devenir une application incontournable dans vie tous les jours des marocains. Vous rejoindrez une équipe jeune dynamique avec une très forte culture startup entrepreneurial, travaillant avec les principes, méthodologies, outils technologies les plus avancées dans développement produit inspirées des plus grandes success story (Google, Facebook, Spotify, Airbnb).\",\n",
       "       \"propos l’offre d’emploi Rattaché Delivery Lead, votre mission consiste Fidéliser les clients dans cadre d'appels sortants entrants. Proposer une multitude produits. Conseiller clientèle par téléphone. Powered JazzHR 8OaMOru8RU\",\n",
       "       \"propos l’offre d’emploi ALTEN MAROC filiale leader mondial l'Ingénierie Conseil Technologies (ICT), avec 100 collaborateurs monde dont plus 950 Maroc répartis sur trois Centres d'Excellence Fès, Rabat Casablanca, nous accompagnons nos clients offrant des solutions d'ingénierie agiles novatrices pour les grands donneurs d'ordre mondial dans les secteurs l'automobile, l'aéronautique, les réseaux télécoms, Software Outils. Rejoindre ALTEN MAROC c'est bénéficier:\",\n",
       "       \"propos l’offre d’emploi Drive Your Career Lear Corporation leading Tier automotive supplier serving world's major automotive manufacturers world-class automotive seating automotive electrical products. Our products developed produced diverse, talented team 165,000 people. With operations countries, Lear operates every major automotive manufacturing region world. For globally positioned successful teams, looking dedicated talents zest action enthusiasm. love challenges, want experience development opportunities unrestrained, want recognition pays off, come right place Lear. Lear Corporation Equal Opportunity Employer, committed diverse workplace. Applicants must submit resume consideration using applicant tracking system. Due high volume applications received, candidates selected interviews contacted. Candidates must legally authorized work United States without sponsorship. Unsolicited resumes search firms employment agencies, similar, paid fee become property Lear Corporation.\",\n",
       "       \"propos l’offre d’emploi Banque Marocaine pour Commerce l'Industrie (BMCI), est une banque commerciale marocaine basée Maroc filiale groupe BNP Paribas. BMCI poursuit une politique ambitieuse développement engagée quotidien auprès ses clients afin construire véritable partenariat durable, BMCI s'implique également sein collectivité, dont elle est partie prenante travers les actions Fondation.\",\n",
       "       'propos l’offre d’emploi Groupe RMO est recherche d’un(e) chargé(e) clientèle (H/F) qui veille développement fidélisation portefeuille clients sur ville Rabat. Analyser diagnostiquer les besoins des clients tenir informé permanence des produits des offres Proposer une réponse appropriée dans respect des règles gestion Profil',\n",
       "       \"propos l’offre d’emploi Proposer une multitude produits. Conseiller clientèle par téléphone. Garantir l'atteinte des objectifs quantitatifs qualitatifs projet. Avantages Contrat CDI Formation rémunérée dès 1er jour Primes mensuelles déplafonnées Challenges mensuels CNSS Powered JazzHR NiquhojPEw\",\n",
       "       \"propos l’offre d’emploi Dans cadre démarage notre nouvelle usine ville Oujda, nous recherchons des candidats possédant les compétences, l’imagination passion nécessaires pour donner vie des idées révolutionnaires qui permettront changer donne. mobilité pouvoir changer monde APTIV pouvoir changer mobilité Siégeant Dublin, Aptiv est groupe technologique mondiale qui développe des solutions plus sûres, plus écologiques plus connectées constituant ainsi l’avenir mobilité. Travail d'équipe, Orientation résultat Focus Client font partie intégrante des valeurs qui animent notre entreprise. Nous offrons nos jeunes talents réelles perspectives opportunités d'évolution dans environnement apprenant niveau national international. Notre société est présente dans monde entier avec plus 180 000 employés dans pays unis par une mission. ____________________________________________________________________________ looking candidates skills, imagination passion bring revolutionary ideas life change game. Diversity Inclusion sources innovation creativity, essential Aptiv’s success. Everyday diverse team comes together, drives innovation, pursues solutions, meets challenges using unique abilities, perspectives talents, changing tomorrow brings. When join team, you’ll get encouraged think boldly, express viewpoint innovate matter habit. Aptiv, don’t see world differently; work change reality. That means developing technology rewrites rules what’s possible pursuit making transportation safer, greener connected. Today 180,000 globally, located countries, united one mission. Privacy Notice Active Candidates: https://www.aptiv.com/privacy-notice-active-candidates Aptiv equal employment opportunity employer. All qualified applicants receive consideration employment without regard race, color, religion, national origin, sex, gender identity, sexual orientation, disability status, protected veteran status characteristic protected law.\",\n",
       "       'propos l’offre d’emploi Groupe RMO recrute Superviseur sur ville Rabat, Missions Conseiller les opérationnels Superviser l’administration Profil',\n",
       "       \"propos l’offre d’emploi Levio recrute, mais cette fois-ci Maghreb! Vous avez envie d'un nouveau défi? Vous rêvez d'immigrer Québec? Vous souhaitez vous épanouir dans environnement travail stimulant? Joignez-vous leader transformation numérique boostez votre carrière. Levio vous propose une opportunité unique développer votre savoir-faire sein d'une équipe haut calibre. variété des défis proposés par nos clients vous donnera l'occasion vous dépasser maintenir votre expertise. Partagez quotidien nos clients soyez dans les projets les plus ambitieux matière Nous sommes actuellement recherche N'hésitez pas nous envoyer votre candidature, nous fera plaisir vous rencontrer!\",\n",
       "       \"propos l’offre d’emploi Cette offre d’emploi provient d’un site d’offres d’emploi. savoir plus Chez MaxAB, nous restructurons marché l'alimentation l'épicerie utilisant des technologies fondées sur les données des chaînes d'approvisionnement pointe. consolidant processus chaîne d'approvisionnement, nous sommes mesure d'offrir non seulement meilleurs prix, mais aussi d'améliorer façon dont les détaillants gèrent leurs affaires. MaxAB obtenu millions dollars dans cadre d'une ronde série qui porte l'investissement total l'entreprise plus millions dollars jour. MaxAB dessert plus 55,000 détaillants traité plus d'un million commandes. Elle augmenté plus cinq fois par année. Nos talents MaxAB sont déterminés maintenir culture les valeurs MaxAB tout continuant croître d'améliorer les services offerts pour nos clients. Ils innovent nouvelles façons d'améliorer qualité vie détaillant égyptien bientôt d'autres détaillants dans monde. vous êtes passionné par travail acharné pour faire impact innover nouvelles solutions, MaxAB est recherche des meilleurs talents. tant que spécialiste comptable, vous serez responsable l'exactitude des transactions trésorerie l'intérieur l'entrepôt affecté. toutes les exigences légales réglementaires sont respectées. comptable financier approuvé par directeur financier.\",\n",
       "       \"propos l’offre d’emploi About The Job Centrale Danone est recherche son nouveau Chargé Reporting Réception LDD (H/F). titre, vos missions s'articuleront autour About Acteur incontournable nous accompagnons jour après jour, des millions consommateurs depuis plusieurs générations, leur apportons bienfaits naturels plaisir, toute les étapes leur vie, nos marques phares Danone, Centrale, Jamila, Danette Grâce notre capacité d’innovation, savoir-faire nos collaborateurs modernisation notre outil production constante évolution, nous avons fait qualité totale notre culture d’entreprise. Chez nous avons une mission apporter une nutrition qualité plus grand nombre. vous souhaitez également faire vôtre, rejoignez-nous contribuez activement développement nos marques\",\n",
       "       'propos l’offre d’emploi Vos missions quotidien Sous Management Directeur Centre d’affaires, Conseiller Clientèle Entreprise est responsable l’exploitation développement d’un portefeuille clients prospects sur marché des Entreprises dans des conditions optimisées termes risque rentabilité. titre, est responsable réalisation des objectifs commerciaux qui lui sont définis termes Chez Société Générale, nous sommes convaincus que les personnes sont les moteurs changement, que monde demain sera fait toutes leurs initiatives, des plus petites aux plus ambitieuses. Que vous nous rejoigniez pour quelques mois, quelques années toute votre carrière, ensemble nous avons les moyens d’avoir impact positif sur l’avenir. Créer, oser, innover, entreprendre font partie notre ADN. vous aussi vous souhaitez être dans l’action, évoluer dans environnement stimulant bienveillant, vous sentir utile quotidien développer renforcer votre expertise, nous sommes faits pour nous rencontrer Vous hésitez encore Sachez que nos collaborateurs peuvent s’engager quelques jours par pour des actions solidarité sur leur temps travail parrainer des personnes difficulté dans leur orientation leur insertion professionnelle, participer l’éducation financière jeunes apprentissage encore partager leurs compétences avec une association. Les formats d’engagement sont multiples.',\n",
       "       \"propos l’offre d’emploi Société Générale Africa Technologies Services recrute Trading Analyst (H/F) Missions L’équipe, étroite collaboration avec les Trading Analysts Assistants Paris Londres, pour missions d'accompagner les équipes Trading dans suivi développement leurs activités ainsi que gestion leurs risques. Concrètement, vous serez amené (e)\",\n",
       "       'propos l’offre d’emploi BUSINESS UNIT STATEMENT support business strategy digital transformation, AXA setting new information security practice ensure coordinated response increasing threat cybersecurity, enabling consistent decision-making across organization. Our vision information security protect stakeholders securing information resources, managing cyber risks enabling effective efficient business strategies fully sponsored executives supported AXA employees.',\n",
       "       'propos l’offre d’emploi DESCRIPTION PRESTATION Assurant rôle Functionnal Leader d’une Feature Team développement dans une organisation d’agilité synchronisée, est garant fonctionnel des livrables effectués par l’équipe. fait, s’occupe des analyses d’impacts, des études fonctionnelles, des spécifications ainsi que des phases test. assure également support aux développeurs sur les aspects fonctionnels solution, s’occupe des analyses defect afin d’identifier source consolide les root causes analysis. devra également synchroniser avec son avec les autres leaders fonctionnels des autres Features Teams afin d’avoir une cohérence globale sur produit.',\n",
       "       'propos l’offre d’emploi Job description: Votre Mission Mettre place stratégie médicale afin développer prescription recommandation des marques par les professionnels santé, pour développer les ventes',\n",
       "       'propos l’offre d’emploi AXA ASSURANCE MAROC recrute pour compte Direction Opérations Offres Vie Santé Sinistres Santé un/une Lead Cellule Indemnisation Santé Missions poste',\n",
       "       'propos l’offre d’emploi Vos missions quotidien FONCTION PRINCIPALE CCE gère portefeuille d’entreprises clientes dans bonnes conditions risque rentabilité.Il est garant qualité traitement des opérations ses clients responsable performance commerciale son portefeuille. titre Compétences métier Compétences comportementales Chez Société Générale, nous sommes convaincus que les personnes sont moteurs changement, que monde demain sera fait toutes leurs initiatives, des plus petites aux plus ambitieuses. Que vous nous rejoigniez pour quelques mois, quelques années toute votre carrière, ensemble nous avons les moyens d’avoir impact positif sur l’avenir. Créer, oser, innover, entreprendre font partie notre ADN. vous aussi vous souhaitez être dans l’action, évoluer dans environnement stimulant bienveillant, vous sentir utile quotidien développer renforcer votre expertise, nous sommes faits pour nous rencontrer',\n",
       "       'propos l’offre d’emploi Avantages Contrat CDI Formation rémunérée dès 1er jour Primes mensuelles déplafonnées Challenges mensuels CNSS Powered JazzHR 9QyGw1pEHr',\n",
       "       'propos l’offre d’emploi Nome Local: Surrey Weybridge Data Publicação: Apr 2022 Security Analyst Threat Intelligence Right now, we’re incredible journey prepare become first independent, 100% focused consumer healthcare company. We’re time work never mattered more. Better everyday health improving health wellness consumers touch every year billion half goes beyond products. It’s truly helping people manage health proactively different ways consumer needs evolve. With category leading brands Sensodyne, Voltaren Centrum, built trusted science human understanding, combined passion, knowledge expertise, we’re uniquely placed grow strong, successful business. security analyst within Insider Threat team critical partner across multiple tech business segments, helping bridge gap Data Loss Protection, user behavior analytics data sources within company used strategic indicators potential disruptive/malicious behaviour. This supports creation mature sustainable program lose sight company culture employee experience, instead builds trust company employees protecting brand, reputation corporate proprietary secrets competitive advantage market. This mission role help ensure corporate commitment helping customer ensuring maximum value shareholders. Through process role key part overall Cyber Security plan sustain improve corporate security posture data networks. This strategy program help ensure proper level Cyber Security protection deal constant change threat landscape ongoing targeting monetization data theft related intellectual property patient information. Job Responsibilities: Our hiring process find right level/role based technical depth breadth. Security Analyst combination below: Diversity, Equity Inclusion Consumer Healthcare embrace diverse workforce creating inclusive environment celebrates unique perspectives, generates curiosity create unmatched understanding other, promotes fair equitable outcomes everyone. We’re striving create climate celebrate diversity forms treating respect, listening different viewpoints, supporting communities, creating workplace authentic self belongs thrives. Recently we’ve shared exciting proposals colleagues mark important moment preparations separation becoming new, standalone Consumer Healthcare company. Our preparations going well. GSK track separate mid-2022 create two incredible new companies, ability improve health millions patients consumers worldwide, great places work. We’ve already confirmed new Consumer Healthcare company headquartered first step we’re taking announce proposals move business current location GSK House Brentford separate, new, headquarters Weybridge. This temporary, important move short term, whilst take opportunity design future create inspiring, flexible, collaborative workspace meets changing needs people business needs. Inspired new culture purpose, commitment sustainability goals, plan build new campus close would home headquarters teams, business, global Oral Health category, R&D innovation teams, well state-of-the-art Shopper Science lab. Como uma empresa impulsionada por nossos valores Foco paciente, Transparência, Respeito Integridade, sabemos que inclusão diversidade são essenciais para que possamos ter sucesso. Queremos que todos nossos colegas prosperem GSK, trazendo suas experiências únicas, garantindo que sintam bem continuem crescendo suas carreiras. Como candidato papel, queremos que você sinta mesma maneira. Acreditamos uma cultura trabalho ágil para todos nossos papéis. flexibilidade importante para você, nós encorajamos você explorar com nossa equipe contratação quais são oportunidades. Não hesite nos contatar quiser discutir quaisquer ajustes nosso processo que possam ajudá-lo demonstrar seus pontos fortes capacidades. Você pode nos ligar 0808 234 4391, enviar email Ukdiversity.recruitment@gsk.com. inscrever, pediremos que você compartilhe algumas informações pessoais que são voluntárias. Isso será usado para nos ajudar entender quão bem estamos indo contra nossas ambições inclusão diversidade. Nós agradeceríamos muito você pudesse levar alguns momentos para completá-lo. Não preocupe, Gerentes Contratação não têm acesso essas informações, não são usados nenhuma parte processo seleção nós trataremos suas informações confidencialmente usaremos isso anonimamente.',\n",
       "       'propos l’offre d’emploi ALTEN MAROC filiale leader mondial l’Ingénierie Conseil Technologies (ICT), avec 000 collaborateurs monde don’t plus 1000 Maroc répartis sur trois Centres d’Excellence Fès, Rabat Casa, nous accompagnons nos clients offrant des solutions d’ingénierie agiles novatrices pour les grands donneurs d’ordre mondial dans les secteurs l’automobile, l’aéronautique, les réseaux télécoms, Software Outils. Rejoindre ALTEN MAROC c’est bénéficier',\n",
       "       \"propos l’offre d’emploi UNICEF Maroc lance Appel consultation pour l’élaboration des directives nationales prise charge des affections respiratoires chez l’enfant moins ans. terme ans après lancement par les Nations Unies Convention Internationale des Droits l’Enfant (CIDE) ratification par Maroc 1993, suite l’atteinte des OMD l’engagement faveur santé l’enfant été réaffirmé par souscription aux Objectifs Développement Durable (ODD) notamment l’ODD3, l’adoption Stratégie Mondiale Santé Mère, l’Enfant l’Adolescent 2016-2030 Nouveau Modèle Développement adopté par notre pays. Aujourd’hui, santé des enfants Maroc enregistré des améliorations visibles avec tangibles baisses dans les taux mortalité des enfants dans retard croissance. Parmi les maladies infantiles responsables morbidité mortalité chez les enfants, retrouve comme c’est cas niveau des autres pays, les infections respiratoires aiguës. Selon l’ENPSF 2018, 37,4% des enfants moins ans ont souffert fièvre, 42,8% toux, 20,1% problèmes respiratoires 11,3% présentaient une suspicion pneumonie. ressort aussi cette enquête que seulement 70,3 d’enfants présentant une pneumonie suspectée ont bénéficié d’une consultation. Dans 27,5% des cas, les familles sont adressées aux centres santé pour demander des conseils contre 14.8% pour les cabinets privés. lieu noter que les femmes s’adressent directement pharmacie recherche d’un traitement dans 51,8% des cas. recours l’hôpital public s’opère dans 4.5% des cas dans 1,7% des cas aux cliniques privés. L’analyse des données annuelles plan riposte national contre les Bronchiolites Aigues Virales (BAV) pour saison 2019-2020 noté 51588 cas notifiés (72,5 des cas vue ESSP 37,5 des cas pris charge hospitalier avec une baisse pour saison 2020-2021 (19457 cas dont 80,5 des cas vue ESSP 9,5% des cas pris charge hospitalier), cette baisse qui peut être expliquée par contexte Covid respect des mesures barrières. proportion des formes graves avoisiné les pour les deux saisons. Ministère Santé Protection Sociale institutionnalisé 2016 vertu Circulaire Ministérielle 241 SMI/DP/00 janvier 2016, Plan National Riposte contre les Bronchiolites Aigues Virales (BAV) nourrisson moins mois, dont l’objectif principal est contribuer réduction mortalité morbidité infanto-juvéniles l’amélioration l’efficacité qualité prise charge nourrisson niveau des Etablissements Soins Santé Primaires (ESSP) Structures Hospitalières (SH) travers des actions prise charge adéquate mobilisation des acteurs (professionnels santé parents). convient que des efforts doivent être consentis pour améliorer qualité prise charge, l’absence directives nationales consensus prise charge ces affections respiratoires d’une part particularité des modalités thérapeutiques chez l’enfant d’autres part pour répondre écosystème émergent par d’autres problèmes santé notamment l’asthme,(classifications protocoles thérapeutiques très divers) les nouvelles affections virales, les maladies cardiovasculaires…, touchant plus plus des populations jeunes. consensus doit prendre considération les facultés médecine les sociétés savantes relation avec thématique pathologie pédiatrique respiratoire infectieuse. l’issue toutes ces données, vue d'améliorer l’état santé ses enfants leur prise charge, l'élaboration d'un guide référentiels pour prise charge des principales affections respiratoires chez les enfants moins ans été retenue dans cadre plan d’action MS/UNICEF pour l’année 2022. Tenant compte nécessité disposer d’un guide pratique mettre disposition des professionnels santé permettant une prise charge adéquate, s’avère urgent pertinent. consultation vise appuyer Ministère Santé Protection Sociale pour note méthodologique constitue premier livrable consultation, sert déclaration consentement entre consultant l’UNICEF Maroc sur gestion consultation son échéancier. Cette note doit être pages maximum compris les annexes, élaborer suite réunion cadrage avec l’UNICEF Ministère Santé Protection Sociale. Elle doit présenter une justification claire choix l’approche méthodologique préconisée, ses forces ses limites répondre aux objectifs portée consultance. s’agit d’un rapport synthétique des données épidémiologiques des affections respiratoires infantiles aigues chroniques Maroc. rapport doit être fondé sur revue littérature des données nationales matière afin d’identifier les affections respiratoires les plus fréquentes Maroc représentant problème santé publique. s’agit également faire inventaire des protocoles PEC des Infections Respiratoires existants utilisés Maroc, d’identifier leurs lacunes. guide doit bâtir sur l’existant prendre compte les dernières directives internationales l’OMS matière afin disséminer d’institutionnaliser les bonnes pratiques auprès des professionnels santé. guide devra être facile d’utilisation avec des schémas illustrations. durée totale consultation est jours étalée sur une période mois. Une note méthodologique détaillée incluant l’échéancier mission Octobre 35% rapport synthétique sur l’analyse situation matière d’affections respiratoires infantiles Octobre guide prise charge des affections respiratoires priorisées chez l’enfant moins ans (en français) Novembre-décembre 65% consultation sera supervisée directement par l’UNICEF collaboration étroite avec Service Protection Santé Infantile /Direction Population. processus validation tous les livrables sera assurée par comité mis place cette fin. Cet appel consultation est ouvert aux consultants individuels nationaux. consultant sera recruté sur base d’un contrat prestations services conclu avec bureau l’UNICEF Maroc. doit comprendre les éléments suivants doit comprendre pour chaque prestation L’offre financière devra comprendre pour chacune des prestations, dirham (MAD), nombre jours estimés taux journalier compris les frais déplacement toute autre charge liée réalisation des prestations. N.B Les honoraires devraient être montant brut déclaration des impôts est sur charge consultant. Pour avoir les Termes Référence détaillés pour toute question concernant cette consultation, prière contacter Mme Houda Belrhiti hbelrhiti@unicef.org\",\n",
       "       'propos l’offre d’emploi Objectif Pertinence Globale Pour L’organisation Contribue atteindre dépasser les objectifs ventes d’indicateurs performance clés magasin travers Établisse lien fort avec les clients atteigne les valeurs marque l’entreprise. Servir vendre aux clients exécuter consciencieusement les opérations magasin. Principales Responsabilités',\n",
       "       'propos l’offre d’emploi Vos missions quotidien FONCTION PRINCIPALE CCE gère portefeuille d’entreprises clientes dans bonnes conditions risque rentabilité.Il est garant qualité traitement des opérations ses clients responsable performance commerciale son portefeuille. titre Compétences métier Compétences comportementales Chez Société Générale, nous sommes convaincus que les personnes sont moteurs changement, que monde demain sera fait toutes leurs initiatives, des plus petites aux plus ambitieuses. Que vous nous rejoigniez pour quelques mois, quelques années toute votre carrière, ensemble nous avons les moyens d’avoir impact positif sur l’avenir. Créer, oser, innover, entreprendre font partie notre ADN. vous aussi vous souhaitez être dans l’action, évoluer dans environnement stimulant bienveillant, vous sentir utile quotidien développer renforcer votre expertise, nous sommes faits pour nous rencontrer',\n",
       "       \"propos l’offre d’emploi Vos missions quotidien Assume responsabilité son portefeuille client (avec Banquier Conseil Entreprise): Garantit relation client quotidien pour l'exécution des services banque quotidien gestion ses transactions. Qualités commerciales Chez Société Générale, nous sommes convaincus que les personnes sont moteurs changement, que monde demain sera fait toutes leurs initiatives, des plus petites aux plus ambitieuses. Que vous nous rejoigniez pour quelques mois, quelques années toute votre carrière, ensemble nous avons les moyens d’avoir impact positif sur l’avenir. Créer, oser, innover, entreprendre font partie notre ADN. vous aussi vous souhaitez être dans l’action, évoluer dans environnement stimulant bienveillant, vous sentir utile quotidien développer renforcer votre expertise, nous sommes faits pour nous rencontrer Vous hésitez encore Sachez que nos collaborateurs peuvent s’engager quelques jours par pour des actions solidarité sur leur temps travail parrainer des personnes difficulté dans leur orientation leur insertion professionnelle, participer l’éducation financière jeunes apprentissage encore partager leurs compétences avec une association. Les formats d’engagement sont multiples.\",\n",
       "       'propos l’offre d’emploi Nome Local: GSK Weybridge Headquarters Data Publicação: Apr 2022 Are Data Scientist looking new, exciting business critical opportunity? so, read on… GSK seeking highly talented Data Scientist join passionate team working support GSK Consumer Healthcare journey becoming data-driven innovative organisation. Data key tenet underpinning transformation journey following joint venture Pfizer year 3-year plan become separate company. such, opportunity key driver success. This role provide YOU opportunity lead key activities progress YOUR career. These responsibilities include following: What looking for? Please take copy Job Description, available post closure advert. When applying role, please use ‘cover letter’ online application describe meet competencies role, outlined job requirements above. The information provided cover letter used assess application. Right now, we’re incredible journey prepare become first independent, 100% focused consumer healthcare company. We’re time work never mattered more. Better everyday health improving health wellness consumers touch every year billion half goes beyond products. It’s truly helping people manage health proactively different ways consumer needs evolve. With category leading brands Sensodyne, Voltaren Centrum, built trusted science human understanding, combined passion, knowledge expertise, we’re uniquely placed grow strong, successful business. This exciting time join help shape future. It’s opportunity part something special. Consumer Healthcare embrace diverse workforce creating inclusive environment celebrates unique perspectives, generates curiosity create unmatched understanding other, promotes fair equitable outcomes everyone. We’re striving create climate celebrate diversity forms treating respect, listening different viewpoints, supporting communities, creating workplace authentic self belongs thrives Recently we’ve shared exciting proposals colleagues mark important moment preparations separation becoming new, standalone Consumer Healthcare company. Our preparations going well. GSK track separate mid-2022 create two incredible new companies, ability improve health millions patients consumers worldwide, great places work. We’ve already confirmed new Consumer Healthcare company headquartered first step we’re taking announce proposals move business current location GSK House Brentford separate, new, headquarters Weybridge. This temporary, important move short term, whilst take opportunity design future create inspiring, flexible, collaborative workspace meets changing needs people business needs. Inspired new culture purpose, commitment sustainability goals, plan build new campus close would home headquarters teams, business, global Oral Health category, R&D innovation teams, well state-of-the-art Shopper Science lab. #TechConsumer Como uma empresa impulsionada por nossos valores Foco paciente, Transparência, Respeito Integridade, sabemos que inclusão diversidade são essenciais para que possamos ter sucesso. Queremos que todos nossos colegas prosperem GSK, trazendo suas experiências únicas, garantindo que sintam bem continuem crescendo suas carreiras. Como candidato papel, queremos que você sinta mesma maneira. Acreditamos uma cultura trabalho ágil para todos nossos papéis. flexibilidade importante para você, nós encorajamos você explorar com nossa equipe contratação quais são oportunidades. Não hesite nos contatar quiser discutir quaisquer ajustes nosso processo que possam ajudá-lo demonstrar seus pontos fortes capacidades. Você pode nos ligar 0808 234 4391, enviar email Ukdiversity.recruitment@gsk.com. inscrever, pediremos que você compartilhe algumas informações pessoais que são voluntárias. Isso será usado para nos ajudar entender quão bem estamos indo contra nossas ambições inclusão diversidade. Nós agradeceríamos muito você pudesse levar alguns momentos para completá-lo. Não preocupe, Gerentes Contratação não têm acesso essas informações, não são usados nenhuma parte processo seleção nós trataremos suas informações confidencialmente usaremos isso anonimamente.',\n",
       "       'propos l’offre d’emploi Banque Centrale Populaire recrute un(e) Contrôleur Gestion SI, poste basé Casablanca. Missions Garantir mise place l’utilisation des dispositifs prévision l’activité des résultats pilotant les processus d’élaboration suivi budgétaire',\n",
       "       'propos l’offre d’emploi Nous recrutons pour compte notre client basé sur Rabat Kenitra, des télévendeurs francophones. Expérience précédente tant que télévendeur (ou dans vente) Niveau parfait Français Très bon niveau communication',\n",
       "       \"propos l’offre d’emploi Cette offre d’emploi provient d’un site d’offres d’emploi. savoir plus Chez MaxAB, nous restructurons marché l'alimentation l'épicerie utilisant des technologies fondées sur les données des chaînes d'approvisionnement pointe. consolidant processus chaîne d'approvisionnement, nous sommes mesure d'offrir non seulement meilleurs prix, mais aussi d'améliorer façon dont les détaillants gèrent leurs affaires. MaxAB obtenu millions dollars dans cadre d'une ronde série qui porte l'investissement total l'entreprise plus millions dollars jour. MaxAB dessert plus 55,000 détaillants traité plus d'un million commandes. Elle augmenté plus cinq fois par année. Nos talents MaxAB sont déterminés maintenir culture les valeurs MaxAB tout continuant croître d'améliorer les services offerts pour nos clients. Ils innovent nouvelles façons d'améliorer qualité vie détaillant égyptien bientôt d'autres détaillants dans monde. vous êtes passionné par travail acharné pour faire impact innover nouvelles solutions, MaxAB est recherche des meilleurs talents.\",\n",
       "       'propos l’offre d’emploi Groupe RMO Maroc recrute Facturier (H/F) expérimenté(e) sur ville Casablanca Missions Vérification des dossiers internes, Administration des ventes. Profil',\n",
       "       \"propos l’offre d’emploi Cette offre d’emploi provient d’un site d’offres d’emploi. savoir plus Chez MaxAB, nous restructurons marché l'alimentation l'épicerie utilisant des technologies fondées sur les données des chaînes d'approvisionnement pointe. consolidant processus chaîne d'approvisionnement, nous sommes mesure d'offrir non seulement meilleurs prix, mais aussi d'améliorer façon dont les détaillants gèrent leurs affaires. MaxAB obtenu millions dollars dans cadre d'une ronde série qui porte l'investissement total l'entreprise plus millions dollars jour. MaxAB dessert plus 55,000 détaillants traité plus d'un million commandes. Elle augmenté plus cinq fois par année. Nos talents MaxAB sont déterminés maintenir culture les valeurs MaxAB tout continuant croître d'améliorer les services offerts pour nos clients. Ils innovent nouvelles façons d'améliorer qualité vie détaillant égyptien bientôt d'autres détaillants dans monde. vous êtes passionné par travail acharné pour faire impact innover nouvelles solutions, MaxAB est recherche des meilleurs talents tant que Responsable des Ventes, vous serez responsable d'atteindre les objectifs departments. Vous serez également responsable suivi développement des performances l'équipe vente.\",\n",
       "       'propos l’offre d’emploi Nombre del sítio: GSK Weybridge Headquarters Fecha publicación: Apr 2022 Are Data Scientist looking new, exciting business critical opportunity? so, read on… GSK seeking highly talented Data Scientist join passionate team working support GSK Consumer Healthcare journey becoming data-driven innovative organisation. Data key tenet underpinning transformation journey following joint venture Pfizer year 3-year plan become separate company. such, opportunity key driver success. This role provide YOU opportunity lead key activities progress YOUR career. These responsibilities include following: What looking for? Please take copy Job Description, available post closure advert. When applying role, please use ‘cover letter’ online application describe meet competencies role, outlined job requirements above. The information provided cover letter used assess application. Right now, we’re incredible journey prepare become first independent, 100% focused consumer healthcare company. We’re time work never mattered more. Better everyday health improving health wellness consumers touch every year billion half goes beyond products. It’s truly helping people manage health proactively different ways consumer needs evolve. With category leading brands Sensodyne, Voltaren Centrum, built trusted science human understanding, combined passion, knowledge expertise, we’re uniquely placed grow strong, successful business. This exciting time join help shape future. It’s opportunity part something special. Consumer Healthcare embrace diverse workforce creating inclusive environment celebrates unique perspectives, generates curiosity create unmatched understanding other, promotes fair equitable outcomes everyone. We’re striving create climate celebrate diversity forms treating respect, listening different viewpoints, supporting communities, creating workplace authentic self belongs thrives Recently we’ve shared exciting proposals colleagues mark important moment preparations separation becoming new, standalone Consumer Healthcare company. Our preparations going well. GSK track separate mid-2022 create two incredible new companies, ability improve health millions patients consumers worldwide, great places work. We’ve already confirmed new Consumer Healthcare company headquartered first step we’re taking announce proposals move business current location GSK House Brentford separate, new, headquarters Weybridge. This temporary, important move short term, whilst take opportunity design future create inspiring, flexible, collaborative workspace meets changing needs people business needs. Inspired new culture purpose, commitment sustainability goals, plan build new campus close would home headquarters teams, business, global Oral Health category, R&D innovation teams, well state-of-the-art Shopper Science lab. #TechConsumer Como empresa impulsada por nuestros valores enfoque paciente, transparencia, respeto integridad, sabemos que inclusión diversidad son esenciales para que podamos tener éxito. Queremos que todos nuestros colegas prosperen GSK, brindando sus experiencias únicas, asegurándonos que sientan bien que sigan creciendo sus carreras. Como candidato para papel, queremos que usted sienta misma manera. Creemos una cultura trabajo ágil para todos nuestros roles. flexibilidad importante para usted, alentamos explorar con nuestro equipo contratación cuáles son las oportunidades. dude ponerse contacto con nosotros desea analizar cualquier ajuste nuestro proceso que pueda ayudarlo demostrar sus fortalezas capacidades. Puede llamarnos 0808 234 4391 enviar correo electrónico Ukdiversity.recruitment@gsk.com. medida que solicite, pediremos que comparta alguna información personal que sea voluntaria. Esto utilizará para ayudarnos comprender qué tan bien estamos haciendo frente nuestras ambiciones inclusión diversidad. Realmente agradeceríamos pudiera tomarse unos momentos para completarlo. Tenga seguridad que los gerentes contratación tienen acceso esta información, utiliza ninguna parte del proceso selección trataremos información forma confidencial utilizaremos forma anónima.',\n",
       "       'propos l’offre d’emploi Groupe RMO recrute pour compte son client Leader location voiture courte moyenne durée Maroc un/une chargée clientèle sur zone orientale Oujda, Nador, hoceima). Missions Assurer l’accueil, téléphonique physique clientèle. Profil',\n",
       "       'propos l’offre d’emploi Missions Animer les ateliers d’étude des besoins clients, Produire des spécifications fonctionnelles, Participer aux étapes recette, Assurer support, formation, conseil l’assistance nos clients.',\n",
       "       'propos l’offre d’emploi Established 2000, eTeacher Group created operates leading virtual schools throughout world. The company specializes large-scale operation online teacher-led classes. work leading professionals every step way, recruiting developing content, marketing, sales, operations. looking Native English speakers sales phone, speaking potential students worldwide. Applicants demonstrate excellent verbal written communication skills well exceptional listening skills. Courtesy patience customer relations essential. But all, applicants must able demonstrate strong persuasion objection handling skills maintaining professional positive attitude order better assist customers.',\n",
       "       'propos l’offre d’emploi Nous somme fois intégrateur prestataire des solutions Sécurité électronique incendie. Notre structure distingue par capacité répondre l’ensemble des besoins ses clients termes projet sécurité, mais également proposer des solutions sur mesure. L’entreprise s’appuie sur bonne connaissance des entreprises acquise depuis ans, emploie actuellement plus 100 personnes réparties entre siège l’agence Tanger.',\n",
       "       'propos l’offre d’emploi The Abdul Latif Jameel Poverty Action Lab (J-PAL), Evidence Policy Design (EPoD) Harvard Kennedy School Policy Center New South (PCNS) seek qualified Research Manager manage impact evaluations conducted Morocco Employment Lab. The objective Employment Lab support creation culture evidence impact evaluations capacity building, strengthen existing labor market programs improve effectiveness future programs policies Morocco. The position offers opportunity Research Manager gain first-hand field experience design impact evaluations collecting data organization undertaking cutting-edge development research. The Research Manager position requires significant training economics significant experience empirical research. The holder position oversees research staff working across Employment Lab’s projects. S/he ensures research protocols respected engages local authorities undertake administrative procedures ensure data collection authorizations obtained. addition, S/he supports Employment Lab Director managing relationships donors partners, including report drafting. also posted offer Senior Research Associate position hiring one person either positions. Please also review Senior Research Associate job description apply one fits better skills experience. For ongoing research projects, work J-PAL affiliate Principal Investigators (PIs) co-PIs to: Lead creation research technical public goods help develop Employment Lab research team technical skills. Present ongoing completed research results projects partners, broader stakeholders government, donors, others person virtually. Any tasks needed. Master’s degree economics, mathematics, statistics.',\n",
       "       'propos l’offre d’emploi Groupe RMO recrute pour compte son client Leader location voiture courte moyenne durée Maroc un/une chargée clientèle sur ville Tanger. Missions Assurer l’accueil, téléphonique physique clientèle. Profil',\n",
       "       'propos l’offre d’emploi Nombre del sítio: GSK Weybridge Headquarters Fecha publicación: Apr 2022 Are Data Scientist looking new, exciting business critical opportunity? so, read on… GSK seeking highly talented Data Scientist join passionate team working support GSK Consumer Healthcare journey becoming data-driven innovative organisation. Data key tenet underpinning transformation journey following joint venture Pfizer year 3-year plan become separate company. such, opportunity key driver success. This role provide YOU opportunity lead key activities progress YOUR career. These responsibilities include following: What looking for? Please take copy Job Description, available post closure advert. When applying role, please use ‘cover letter’ online application describe meet competencies role, outlined job requirements above. The information provided cover letter used assess application. Right now, we’re incredible journey prepare become first independent, 100% focused consumer healthcare company. We’re time work never mattered more. Better everyday health improving health wellness consumers touch every year billion half goes beyond products. It’s truly helping people manage health proactively different ways consumer needs evolve. With category leading brands Sensodyne, Voltaren Centrum, built trusted science human understanding, combined passion, knowledge expertise, we’re uniquely placed grow strong, successful business. This exciting time join help shape future. It’s opportunity part something special. Consumer Healthcare embrace diverse workforce creating inclusive environment celebrates unique perspectives, generates curiosity create unmatched understanding other, promotes fair equitable outcomes everyone. We’re striving create climate celebrate diversity forms treating respect, listening different viewpoints, supporting communities, creating workplace authentic self belongs thrives Recently we’ve shared exciting proposals colleagues mark important moment preparations separation becoming new, standalone Consumer Healthcare company. Our preparations going well. GSK track separate mid-2022 create two incredible new companies, ability improve health millions patients consumers worldwide, great places work. We’ve already confirmed new Consumer Healthcare company headquartered first step we’re taking announce proposals move business current location GSK House Brentford separate, new, headquarters Weybridge. This temporary, important move short term, whilst take opportunity design future create inspiring, flexible, collaborative workspace meets changing needs people business needs. Inspired new culture purpose, commitment sustainability goals, plan build new campus close would home headquarters teams, business, global Oral Health category, R&D innovation teams, well state-of-the-art Shopper Science lab. #TechConsumer Como empresa impulsada por nuestros valores enfoque paciente, transparencia, respeto integridad, sabemos que inclusión diversidad son esenciales para que podamos tener éxito. Queremos que todos nuestros colegas prosperen GSK, brindando sus experiencias únicas, asegurándonos que sientan bien que sigan creciendo sus carreras. Como candidato para papel, queremos que usted sienta misma manera. Creemos una cultura trabajo ágil para todos nuestros roles. flexibilidad importante para usted, alentamos explorar con nuestro equipo contratación cuáles son las oportunidades. dude ponerse contacto con nosotros desea analizar cualquier ajuste nuestro proceso que pueda ayudarlo demostrar sus fortalezas capacidades. Puede llamarnos 0808 234 4391 enviar correo electrónico Ukdiversity.recruitment@gsk.com. medida que solicite, pediremos que comparta alguna información personal que sea voluntaria. Esto utilizará para ayudarnos comprender qué tan bien estamos haciendo frente nuestras ambiciones inclusión diversidad. Realmente agradeceríamos pudiera tomarse unos momentos para completarlo. Tenga seguridad que los gerentes contratación tienen acceso esta información, utiliza ninguna parte del proceso selección trataremos información forma confidencial utilizaremos forma anónima.',\n",
       "       'propos l’offre d’emploi The Abdul Latif Jameel Poverty Action Lab (J-PAL), Evidence Policy Design (EPoD) Harvard Kennedy School Policy Center New South (PCNS) seek qualified Research Associate manage impact evaluations conducted Morocco Employment Lab. The objective Employment Lab support creation culture evidence impact evaluations capacity building, strengthen existing labor market programs improve effectiveness future programs policies Morocco. The position offers opportunity Research Associate gain first-hand field experience design impact evaluations collecting data organization undertaking cutting-edge development research. Research Associates work closely academic researchers field staff perform variety tasks including, limited to: designing survey questionnaires, conducting qualitative research, running pilot tests, refining design survey instruments study, managing survey teams, negotiating contracts survey firms, checking analyzing data, cleaning data assisting preliminary analysis, assisting writing project reports policy memos, coordinating local partner running program evaluation. This position located Rabat, Morocco.',\n",
       "       'propos l’offre d’emploi Job Description PUESTO:RESERVACIONISTA REPORTA A:GERENTE RESERVACIONES Desempeña con capacidad agente ventas para todas las reservaciones del hotel, asiste funciones diarias departamento reservaciones. TAREAS RESPONSABILIDADES Establecer mantener operación reservaciones para todas las fuentes reservaciones incluyendo reservaciones centrales, departamento ventas agencias viajes. OPERACION Reservaciones. Job Requirements',\n",
       "       'propos l’offre d’emploi Description Who Our Mission inspire authentic meaningful connections. Selina born desire celebrate nomadic lifestyle: experience planet’s beautiful places, build community, engage locals fellow travelers, work enjoy new adventures. Hotel Operations Food Beverages Fill form attach resume apply.',\n",
       "       'propos l’offre d’emploi Pour compte notre client bancaire, basé Casablanca nous sommes recherche dun consultant pour accompagnement AMOA sur les sujets relatifs domaine Risques',\n",
       "       \"propos l’offre d’emploi Cette offre d’emploi provient d’un site d’offres d’emploi. savoir plus Chez MaxAB, nous restructurons marché l'alimentation l'épicerie utilisant des technologies fondées sur les données des chaînes d'approvisionnement pointe. consolidant processus chaîne d'approvisionnement, nous sommes mesure d'offrir non seulement meilleurs prix, mais aussi d'améliorer façon dont les détaillants gèrent leurs affaires. MaxAB obtenu millions dollars dans cadre d'une ronde série qui porte l'investissement total l'entreprise plus millions dollars jour. MaxAB dessert plus 55,000 détaillants traité plus d'un million commandes. Elle augmenté plus cinq fois par année. Nos talents MaxAB sont déterminés maintenir culture les valeurs MaxAB tout continuant croître d'améliorer les services offerts pour nos clients. Ils innovent nouvelles façons d'améliorer qualité vie détaillant égyptien bientôt d'autres détaillants dans monde. vous êtes passionné par travail acharné pour faire impact innover nouvelles solutions, MaxAB est recherche des meilleurs talents.\",\n",
       "       'propos l’offre d’emploi Nome Local: Data Publicação: Sep 2022 Hello. We’re Haleon. new world-leading consumer health company. Shaped join us. Together, we’re improving everyday health billions people. growing innovating global portfolio category-leading brands including Sensodyne, Panadol, Advil, Voltaren, Theraflu, Otrivin, Centrum unique combination deep human understanding trusted science. What’s more, we’re achieving company we’re control of. environment we’re co-creating. And culture that’s uniquely ours. Care join us. isn’t question This exciting time join help shape future. It’s opportunity part something special. Haleon hiring Data Governance Analyst part Enterprise Data Governance team responsible drive design, build operations function end-to-end accountability embedding effective Data Governance across Haleon. Working Data Management team, Data Governance Analyst defining implementing Data Governance framework, deliver required organisational structure practices effectively deliver Data Governance enduring capability. The role require cross-functional interaction leaders teams across Haleon’s business functions markets, partnering wide array stakeholders deliver Data Governance initiatives. This position presents opportunity play active role delivering important strategic function critical Haleon’s continued success. The Data Governance Analyst work Data Management team broader Haleon Data Office drive implementation strategy, processes, technology, teams achieve this, working closely stakeholders wider organisation ensure compliance newly created established policies procedures. The Data Governance Analyst support design, build, operate Data Governance Strategy Data Digital strategies. They focus enabling safe effective use data, managing risk, driving continuous improvement capabilities efficiencies within organisation. Haleon moves towards becoming truly data-centric organisation, high-impact high-visibility role requires strong communication collaboration skills, analytical approach, deep Data Governance experience ability engage stakeholders functions regions across organisation. looking professionals required skills achieve goals: Please save copy job description, may helpful refer advert closes. Haleon embrace diverse workforce creating inclusive environment celebrates unique perspectives, generates curiosity create unmatched understanding other, promotes fair equitable outcomes everyone. We’re striving create climate celebrate diversity forms treating respect, listening different viewpoints, supporting communities, creating workplace authentic self belongs thrives. believe agile working culture roles. flexibility important you, encourage explore hiring team opportunities are. Como uma empresa impulsionada por nossos valores Foco paciente, Transparência, Respeito Integridade, sabemos que inclusão diversidade são essenciais para que possamos ter sucesso. Queremos que todos nossos colegas prosperem GSK, trazendo suas experiências únicas, garantindo que sintam bem continuem crescendo suas carreiras. Como candidato papel, queremos que você sinta mesma maneira. Acreditamos uma cultura trabalho ágil para todos nossos papéis. flexibilidade importante para você, nós encorajamos você explorar com nossa equipe contratação quais são oportunidades. Não hesite nos contatar quiser discutir quaisquer ajustes nosso processo que possam ajudá-lo demonstrar seus pontos fortes capacidades. Você pode nos ligar 0808 234 4391, enviar email Ukdiversity.recruitment@gsk.com. inscrever, pediremos que você compartilhe algumas informações pessoais que são voluntárias. Isso será usado para nos ajudar entender quão bem estamos indo contra nossas ambições inclusão diversidade. Nós agradeceríamos muito você pudesse levar alguns momentos para completá-lo. Não preocupe, Gerentes Contratação não têm acesso essas informações, não são usados nenhuma parte processo seleção nós trataremos suas informações confidencialmente usaremos isso anonimamente.',\n",
       "       'propos l’offre d’emploi ALTEN MAROC filiale leader mondial l’Ingénierie Conseil Technologies (ICT), avec 50000 collaborateurs monde avec plus 1100 Maroc répartis sur trois Centres d’Excellence Fès, Rabat Casa, nous accompagnons nos clients offrant des solutions d’ingénierie agiles novatrices pour les grands donneurs d’ordre mondial dans les secteurs l’automobile, l’aéronautique, les réseaux télécoms, Software Outils.',\n",
       "       \"propos l’offre d’emploi MISSION GENERALE FONCTION: Rattaché (e) DRH, il/elle encadre pôle Paie Déclaration pôle Administration dont mission est gérer l'enregistrement dans système paie des événements administratifs vie collaborateur d'intervenir sur les dossiers complexes assure garantit également respect calendrier des différentes obligations légales professionnelles découlant gestion personnel.\",\n",
       "       \"propos l’offre d’emploi ALTEN MAROC filiale leader mondial l'Ingénierie Conseil Technologies (ICT), avec 000 collaborateurs monde dont plus 1100 Maroc répartis sur trois Centres d'Excellence Fès, Rabat Casa, nous accompagnons nos clients offrant des solutions d'ingénierie agiles novatrices pour les grands donneurs d'ordre mondial dans les secteurs l'automobile, l'aéronautique, les réseaux télécoms, Software Outils. Rejoindre ALTEN MAROC c'est bénéficier\",\n",
       "       'propos l’offre d’emploi Nous recherchons Gestionnaire H/F sur ville Casablanca, Missions Gestion présence suivi pointage, notification des irrégularités, absences, retards… Recueil, préparation traitement des éléments variables paie. Profil',\n",
       "       'propos l’offre d’emploi Groupe RMO recrute pour compte son client Leader location voiture courte moyenne durée Maroc un/une chargée clientèle sur ville Casablanca. Missions Assurer l’accueil, téléphonique physique clientèle. Profil- Bac+3 plu, avec une expérience réussie dans commerce',\n",
       "       'propos l’offre d’emploi Greetings Job Seekers! want flexible work-from-home role allows choose hours? TELUS International AI-Data Solutions looking French Speaking Search Engine Evaluators.',\n",
       "       'propos l’offre d’emploi Nous recrutons un(e)Coordinateur Comptable h/fdédié(e), organisé(e) efficace pour rejoindre notre équipe dans rôle, vous travaillerez étroite collaboration pour coordonner compléter les tâches poste comme qui suit Comptabilisation des factures fournisseurs locaux étrangers. Préparation des dossiers paiements',\n",
       "       \"propos l’offre d’emploi Notre offre recrute Data Analyse- Pilote VEH Vos responsabilités Dans l'objectif d'assurer bon dimensionnement des véhicules, réalisation des profils missions (PFM) est necassaire pour caractériser les sollicitations engendrées par client analyser son comportement agissant sur les organes véhicules Votre profil\",\n",
       "       'propos l’offre d’emploi Line Service Assurance Industry/Sector Not Applicable',\n",
       "       'propos l’offre d’emploi Groupe RMO recrute pour son client Comptable H/F, qui aura pour missions Réception traitement des pièces comptables Saisie des transactions comptables Établissement des déclarations TVA Analyse des comptes Profil- Titulaire d’un diplôme BAC+3 comptabilité gestion tout autre diplôme équivalent',\n",
       "       'propos l’offre d’emploi Deloitte est leader mondial des services professionnels Audit, Conseil Formation, Juridique Fiscal, Expertise-Comptable. Deloitte accompagne ses clients dans réalisation leurs projets stratégiques vue d’améliorer leurs performances financières organisationnelles. Afrique Francophone, Deloitte intervient depuis plus d’une trentaine d’années dans les pays d’Afrique (Maghreb, Afrique l’Ouest Afrique Centrale) avec plus 000 collaborateurs répartis dans bureaux. Cette présence nous permet mobiliser des ressources locales, lien avec notre réseau mondial d’experts, ceci afin d’apporter les meilleures compétences nos clients sécuriser réussite leurs projets. Aujourd’hui, bureau Deloitte Audit Maroc recrute un(e) Missions sein notre équipe, vous serez amené(e) Poste basé Casablanca.',\n",
       "       'propos l’offre d’emploi Rattaché(e) direction financière, vos principales missions seront Animer coordonner processus d’élaboration budget Collecter, analyser synthétiser les données budgétaires venant des départements opérationnels des centres profit. Elaborer, analyser suivre les indicateurs pilotage performance l’entreprise.',\n",
       "       'propos l’offre d’emploi TELUS International AI-Data Solutions partners diverse vibrant community help customers enhance machine learning models. The work Community contributes improving technology digital experiences many people around world. Our Community works proprietary training platform handling data types (text, images, audio, video geo) across 500+ languages dialects. offer flexible work-from-home opportunities people passion languages. The jobs part-time, fixed schedule. Whoever are, wherever come from, come join global community.',\n",
       "       \"propos l’offre d’emploi Dans cadre son développement, Umnia Bank recrute Chef projet AMOA Banque qui aura comme mission principale d'accompagner les lignes métiers Banque dans mise œuvre leurs projets titre vous pourrez entre autres être Chargé l’animation des workshops afin valider recueillir les besoins; Chargé rédaction des cahiers des charges des dossiers spécifications fonctionnelles; Chargé des phases paramétrage fonctionnelle, travers conception des maquettes saisie, des requêtes suivi,\",\n",
       "       'propos l’offre d’emploi Devenez Développeur avec cette offre stage pré embauche pour jeune diplômé. Pour une entreprise premier rang, vous développerez vos compétences afin maintenir développer des application sur Qlik Sense SSIS.',\n",
       "       'propos l’offre d’emploi Employment type: Full-time Permanent Salary: Base salary 60,000 USD per year zero-tax environment (plus performance-based biannual bonuses) Location: Dubai, UAE (We provide visa sponsorship relocation) Cobblestone Energy energy trading company specialising Great Britain European wholesale electricity markets. match interests power supply demand terms timing place delivery. Every day trade enough electricity power small country. so, help balance electricity grid, lowering cost end consumers, aiding transition renewable future. Cobblestone Energy, diverse team people 20+ nationalities believe hiring extraordinary talent around world. Our flat organizational structure helps giving team members complete ownership work ensures ideas come every level. believe providing unlimited growth opportunities people alongside constant feedback support, allows cover vulnerabilities grow team new interesting ways. With right performance potential, could managing power desk entire country within eighteen months role. Come join dream team! look individuals strong numerical backgrounds like mathematics, statistics engineering degree/experience skills carry well excelling Junior Trader. However, welcome applicants backgrounds experiences track record excellence, inside outside academics. After application evaluated, invited two psychometric tests followed trading simulation three rounds remote interviews. All finalists invited final round recruitment process one-week training program, Commercial Training Program (CTP), Dubai office. cater relocation costs, i.e., flights, tickets, accommodation, work visa paperwork, related expenses. Those pass CTP offered full-time role Cobblestone Energy join 7-12 month long Commercial Developmemt Program (CDP). The CDP well-structured rotational trading program work alongside seasoned traders, mentor market fundamentals trading help develop potent trading analytical skills.',\n",
       "       \"propos l’offre d’emploi Cette offre d’emploi provient d’un site d’offres d’emploi. savoir plus Chez MaxAB, nous restructurons marché l'alimentation l'épicerie utilisant des technologies fondées sur les données des chaînes d'approvisionnement pointe. consolidant processus chaîne d'approvisionnement, nous sommes mesure d'offrir non seulement meilleurs prix, mais aussi d'améliorer façon dont les détaillants gèrent leurs affaires. MaxAB obtenu millions dollars dans cadre d'une ronde série qui porte l'investissement total l'entreprise plus millions dollars jour. MaxAB dessert plus 55,000 détaillants traité plus d'un million commandes. Elle augmenté plus cinq fois par année. Nos talents MaxAB sont déterminés maintenir culture les valeurs MaxAB tout continuant croître d'améliorer les services offerts pour nos clients. Ils innovent nouvelles façons d'améliorer qualité vie détaillant égyptien bientôt d'autres détaillants dans monde. vous êtes passionné par travail acharné pour faire impact innover nouvelles solutions, MaxAB est recherche des meilleurs talents. coordinateur comptes clés supervise maintien des relations avec les clients d'une entreprise. Les responsabilités d'un coordinateur compte clé sont d'agir tant que support pour les détaillants les plus importants d'une entreprise, agissant comme une liaison entre les clients l'entreprise.\",\n",
       "       'propos l’offre d’emploi Vos missions quotidien Banquier Conseil Entreprise est responsable l’atteinte des objectifs commerciaux, développement PNB maitrise CNR son portefeuille. pour principales missions BAC Chez Société Générale, nous sommes convaincus que les personnes sont moteurs changement, que monde demain sera fait toutes leurs initiatives, des plus petites aux plus ambitieuses. Que vous nous rejoigniez pour quelques mois, quelques années toute votre carrière, ensemble nous avons les moyens d’avoir impact positif sur l’avenir. Créer, oser, innover, entreprendre font partie notre ADN. vous aussi vous souhaitez être dans l’action, évoluer dans environnement stimulant bienveillant, vous sentir utile quotidien développer renforcer votre expertise, nous sommes faits pour nous rencontrer Vous hésitez encore Sachez que nos collaborateurs peuvent s’engager quelques jours par pour des actions solidarité sur leur temps travail parrainer des personnes difficulté dans leur orientation leur insertion professionnelle, participer l’éducation financière jeunes apprentissage encore partager leurs compétences avec une association. Les formats d’engagement sont multiples.',\n",
       "       \"propos l’offre d’emploi Responsabilité Respect l'adhérence planning. Écoute demande client, répondre selon les éléments dossier (Dysfonctionnements, Demandes d'information ...). Analyse des besoins, identifier proposer une solution adaptée leurs attentes. Powered JazzHR jlCHtYkMSF\",\n",
       "       \"propos l’offre d’emploi Rattaché Delivery Lead, votre mission consiste Fidéliser les clients dans cadre d'appels sortants. Proposer une multitude produits. Conseiller clientèle par téléphone. Profil recherché Bac+2 plus Vous disposez idéalement d’une expérience réussie télémarketing (émission/réception d’appels). Autres CDI Formation initiale rémunérée dès 1er jour Bonus mensuel Avantages (Challenges, dotations, ...) Powered JazzHR VaKC2jGidp\",\n",
       "       \"propos l’offre d’emploi Description l'entreprise Acteur mondial référence dans domaine des levures fermentation, Lesaffre conçoit, produit apporte des solutions innovantes pour panification, goût plaisir alimentaire, bien-être santé biotechnologie. Proche ses clients ses partenaires, Lesaffre emploie répartis dans près dans +50 pays. Lesaffre réalise chiffre d’affaires Description poste Qualifications\",\n",
       "       \"propos l’offre d’emploi Fed Africa est cabinet recrutement par approche directe par annonces, dédié continent africain, intervenant sur des fonctions Middle Top Management, Fed Africa pour vocation d'accompagner les groupes locaux internationaux dans leurs développements sur zone Afrique. Nous recherchons pour nos clients, opérant secteur l'industrie, Responsable site H/F basé Tanger, Maroc.Job description:Le/la responsable d’unité production est homme-orchestre un-e manager proximité sein l’atelier. Le/la responsable d’unité production planifie, établit les charges travail gère les ressources (depuis recrutement, paie passant par l’élaboration contrat travail). responsable d’unité production encadre une plusieurs équipes production. MISSION PRINCIPALE Organiser l’activité des équipes d’opérateurs conducteurs machines lignes production. Assurer suivi fabrication veillant respect des règles sécurité des impératifs production (quantité, délais, qualité, coût, …). Superviser bon fonctionnement des équipements (réglages, maintenance, …). Organiser suivre stockage, voire s’occuper des expéditions des produits. ACTIVITÉS Vous savez gérer pression d'un projet ambitieux, respect des délais, normes. Vous saurez gérer une équipe avez bon leadership.We offer:\",\n",
       "       'propos l’offre d’emploi Nombre del sítio: Weybridge Fecha publicación: Jul 2022 Principle Data Scientist Customer Commercial Job Purpose Hello. We’re Haleon. new world-leading consumer health company. Shaped join us. Together, we’re improving everyday health billions people. growing innovating global portfolio category-leading brands including Sensodyne, Panadol, Advil, Voltaren, Theraflu, Otrivin, Centrum unique combination deep human understanding trusted science. What’s more, we’re achieving company we’re control of. environment we’re co-creating. And culture that’s uniquely ours. Care join us. isn’t question. This exciting opportunity lead Commercial pillar global data science team. world’s largest consumer healthcare company, critical strong relationships build innovative solutions retail partners. unique opportunity scale team highly skilled data scientists. You discovering value data others can’t. You exploring cutting edge techniques discover patterns predictions change way think business. You help lead complex diverse projects leverage Data Science techniques result measurable commercial benefit. You working closely marketing commercials teams external partners. also opportunity champion Data Good agenda sustainable projects pro-bono charity work. This role ideal person provide leadership vision transform organisation product value led mindset. They strong understanding Net Revenue Management, Planning cutting edge retail solutions. They confident working partnership senior stakeholders across business. They use extensive scientific commercial background unlock business value across extensive data landscape. Applicants experienced leading teams providing ongoing coaching oversight development data products agile methodology. addition, strong strategic business outcomes focused skillset required able identify assess value, prioritising delivery line business needs. You seen leader thought leadership command attention wider data science community. You excited make different drive innovation brand-new company! Key Responsibilities People Team Management Principal Data Scientist, you: Functional Requirements Principal Data Scientist, you: Domain Expertise Principal Data Scientist Customer, you: Como empresa impulsada por nuestros valores enfoque paciente, transparencia, respeto integridad, sabemos que inclusión diversidad son esenciales para que podamos tener éxito. Queremos que todos nuestros colegas prosperen GSK, brindando sus experiencias únicas, asegurándonos que sientan bien que sigan creciendo sus carreras. Como candidato para papel, queremos que usted sienta misma manera. Creemos una cultura trabajo ágil para todos nuestros roles. flexibilidad importante para usted, alentamos explorar con nuestro equipo contratación cuáles son las oportunidades. dude ponerse contacto con nosotros desea analizar cualquier ajuste nuestro proceso que pueda ayudarlo demostrar sus fortalezas capacidades. Puede llamarnos 0808 234 4391 enviar correo electrónico Ukdiversity.recruitment@gsk.com. medida que solicite, pediremos que comparta alguna información personal que sea voluntaria. Esto utilizará para ayudarnos comprender qué tan bien estamos haciendo frente nuestras ambiciones inclusión diversidad. Realmente agradeceríamos pudiera tomarse unos momentos para completarlo. Tenga seguridad que los gerentes contratación tienen acceso esta información, utiliza ninguna parte del proceso selección trataremos información forma confidencial utilizaremos forma anónima.',\n",
       "       \"propos l’offre d’emploi Drive Your Career Lear Corporation leading Tier automotive supplier serving world's major automotive manufacturers world-class automotive seating automotive electrical products. Our products developed produced diverse, talented team 165,000 people. With operations countries, Lear operates every major automotive manufacturing region world. For globally positioned successful teams, looking dedicated talents zest action enthusiasm. love challenges, want experience development opportunities unrestrained, want recognition pays off, come right place Lear. Lear Corporation Equal Opportunity Employer, committed diverse workplace. Applicants must submit resume consideration using applicant tracking system. Due high volume applications received, candidates selected interviews contacted. Candidates must legally authorized work United States without sponsorship. Unsolicited resumes search firms employment agencies, similar, paid fee become property Lear Corporation.\",\n",
       "       'propos l’offre d’emploi Nome Local: Weybridge Data Publicação: Jul 2022 Principle Data Scientist Customer Commercial Job Purpose Hello. We’re Haleon. new world-leading consumer health company. Shaped join us. Together, we’re improving everyday health billions people. growing innovating global portfolio category-leading brands including Sensodyne, Panadol, Advil, Voltaren, Theraflu, Otrivin, Centrum unique combination deep human understanding trusted science. What’s more, we’re achieving company we’re control of. environment we’re co-creating. And culture that’s uniquely ours. Care join us. isn’t question. This exciting opportunity lead Commercial pillar global data science team. world’s largest consumer healthcare company, critical strong relationships build innovative solutions retail partners. unique opportunity scale team highly skilled data scientists. You discovering value data others can’t. You exploring cutting edge techniques discover patterns predictions change way think business. You help lead complex diverse projects leverage Data Science techniques result measurable commercial benefit. You working closely marketing commercials teams external partners. also opportunity champion Data Good agenda sustainable projects pro-bono charity work. This role ideal person provide leadership vision transform organisation product value led mindset. They strong understanding Net Revenue Management, Planning cutting edge retail solutions. They confident working partnership senior stakeholders across business. They use extensive scientific commercial background unlock business value across extensive data landscape. Applicants experienced leading teams providing ongoing coaching oversight development data products agile methodology. addition, strong strategic business outcomes focused skillset required able identify assess value, prioritising delivery line business needs. You seen leader thought leadership command attention wider data science community. You excited make different drive innovation brand-new company! Key Responsibilities People Team Management Principal Data Scientist, you: Functional Requirements Principal Data Scientist, you: Domain Expertise Principal Data Scientist Customer, you: Como uma empresa impulsionada por nossos valores Foco paciente, Transparência, Respeito Integridade, sabemos que inclusão diversidade são essenciais para que possamos ter sucesso. Queremos que todos nossos colegas prosperem GSK, trazendo suas experiências únicas, garantindo que sintam bem continuem crescendo suas carreiras. Como candidato papel, queremos que você sinta mesma maneira. Acreditamos uma cultura trabalho ágil para todos nossos papéis. flexibilidade importante para você, nós encorajamos você explorar com nossa equipe contratação quais são oportunidades. Não hesite nos contatar quiser discutir quaisquer ajustes nosso processo que possam ajudá-lo demonstrar seus pontos fortes capacidades. Você pode nos ligar 0808 234 4391, enviar email Ukdiversity.recruitment@gsk.com. inscrever, pediremos que você compartilhe algumas informações pessoais que são voluntárias. Isso será usado para nos ajudar entender quão bem estamos indo contra nossas ambições inclusão diversidade. Nós agradeceríamos muito você pudesse levar alguns momentos para completá-lo. Não preocupe, Gerentes Contratação não têm acesso essas informações, não são usados nenhuma parte processo seleção nós trataremos suas informações confidencialmente usaremos isso anonimamente.',\n",
       "       'propos l’offre d’emploi ALTEN MAROC filiale leader mondial l’Ingénierie Conseil Technologies (ICT), avec 000 collaborateurs monde don’t plus 1000 Maroc répartis sur trois Centres d’Excellence Fès, Rabat Casa, nous accompagnons nos clients offrant des solutions d’ingénierie agiles novatrices pour les grands donneurs d’ordre mondial dans les secteurs l’automobile, l’aéronautique, les réseaux télécoms, Software Outils. Rejoindre ALTEN MAROC c’est bénéficier',\n",
       "       'propos l’offre d’emploi Descriptif mission/activités principales Définition mise œuvre projet gestion connaissances commerciales Collecte, mise jour mise disposition connaissances d’informations commerciales techniques Animation des processus gestion des connaissances Constitution animation réseaux d’experts',\n",
       "       'propos l’offre d’emploi Poste Il/elle interviendra sur des activités diversifies Contribution rédaction des exigences sécurité des projets services Apport d’une expertise sur les politiques sécurité groupe Orange les bonnes pratiques sécurité',\n",
       "       'propos l’offre d’emploi MISSION Ensure production required customer, established quantity quality, respecting established OHSE policies procedures. (*) The duties described typical position way comprehensive list. Secondary Vocational education Fluent local language N/A Basic knowledge OHSE management would additional value',\n",
       "       \"propos l’offre d’emploi Quel sera votre rôle? Nous recherchons un⸱e Conseillèr Client pour rejoindre nos équipes commerciales sur Casablanca. s'agit pas d'un emploi dans vente comme les autres. Notre culture d'entreprise est unique elle encourage fois performance développement des collaborateurs. Qui sommes-nous? Hilti est cœur l'innovation pour améliorer productivité, sécurité développement durable dans l'industrie mondiale construction, au-delà. Grâce aux relations solides développées avec nos clients, nous créons des solutions pour construire avenir meilleur. Présent dans 120 pays, nous partageons même fierté même sentiment d'appartenance qui répercutent aussi dans nos vies nos foyers. Les collaborateurs peuvent découvrir des opportunités, valoriser leur potentiel, s'approprier leur développement personnel surtout faire évoluer leur carrière sur long-terme. quoi consiste métier? Conseillère Client fournit aux clients une solide connaissance des produits Hilti, ainsi que tous les services suivi qui accompagnent nom Hilti, afin d'assurer l'engagement des clients. Vous répondrez des appels appelez directement des clients internes externes par téléphone afin gérer leurs demandes. Vous participez activement développement chiffre d'affaires filiale, interaction avec notre force vente. s'agit d'établir des relations avec nos clients les aider trouver les solutions les plus innovantes les plus rentables pour leurs besoins, présentant proposition valeur Hilti. Hilti figure 1ère place palmarès des meilleures entreprises Maroc fait bon travailler (Great Place Work 2022) 11ème dans monde! Vous aurez nombreuses responsabilités, parmi lesquelles gestion des demandes nos clients VIP (acheteurs, artisans, dirigeants d'entreprises). Surpassez-vous bénéficiez d'un programme formation développement unique profitez nouvelles opportunités carrière dès que vous serez prêt relever nouveaux défis. Vous n'avez jamais travaillé dans vente bâtiment n'est pas problème. Nos collaborateurs viennent tous les horizons, certains nos représentants service clientèle les plus performants n'avaient aucune expérience quand ils ont rejoint Hilti. Votre réussite chez Hilti dépendra votre aptitude travail équipe vos compétences, quelle que soit votre formation. Date limite candidature 18/09/2022\",\n",
       "       \"propos l’offre d’emploi Drive Your Career Lear Corporation leading Tier automotive supplier serving world's major automotive manufacturers world-class automotive seating automotive electrical products. Our products developed produced diverse, talented team 165,000 people. With operations countries, Lear operates every major automotive manufacturing region world. For globally positioned successful teams, looking dedicated talents zest action enthusiasm. love challenges, want experience development opportunities unrestrained, want recognition pays off, come right place Lear. great new opportunity opened join Sala Jadida’s Electronic Plant’s Quality Team Quality System Audit Engineer, reporting directly Quality Manager. Your main mission would Establish, maintain audit internal quality management system, sustain quality culture plant. You charge growing revenue improving well Long Term Performance, manage Portfolio Customer Alignment achieve Operational Excellence. Position based Sala Jadida Lear Corporation Equal Opportunity Employer, committed diverse workplace. Applicants must submit resume consideration using applicant tracking system. Due high volume applications received, candidates selected interviews contacted. Candidates must legally authorized work without sponsorship. Unsolicited resumes search firms employment agencies, similar, paid fee become property Lear Corporation.\",\n",
       "       'propos l’offre d’emploi Finalité métier chef projet communication institutionnelle Financière pour mission piloter, réaliser mettre place les actions communication institutionnelle financière banque. Missions activités principales poste Participer définition mise œuvre plan Communication Institutionnelle Financière',\n",
       "       \"propos l’offre d’emploi fast changing markets, customers worldwide rely Thales. Thales business brilliant people world come together share ideas inspire other. aerospace, transportation, defence, security space, architects design innovative solutions make tomorrow's possible. Contexte poste sein THM, CSOC assure surveillance (Monitoring sécurité 24/7), prévention (Veille relation avec CERT) management des systèmes sécurité nos clients (Logs Management, Détection Réponses aux incidents sécurité, Analyses Forensic, Expertises sécurité, Audits vulnérabilités, Reportings sécurité). candidat recherché intégrera ligne service Log Management Security Analysis CSOC Thales participera notamment gestion des opérations d'analyse, logs management, réponse aux incidents sécurité pour nos clients d'amélioration continue tant qu’analyste niveau avec l’aide d’un analyste référent Sénior. candidat sera également amené travailler sur des projets d’amélioration interne SOC candidat pourra intervenir sur différents périmètres détection client dans plusieurs domaines: aéronautique, spatial, transport, énergie, télécom sein l’équipe CSOC (CyberSecurity Operation Center), vous travaillerez tant qu’analyste sénior SOC pour délivrer les prestations sécurité opérationnelle pour nos clients. Niveau d’Anglais minimum Thales provide CAREERS jobs. With Thales employing 80,000 employees countries mobility policy enables thousands employees year develop careers home abroad, existing areas expertise branching new fields. Together believe embracing flexibility smarter way working. Great journeys start here, apply now!\",\n",
       "       'propos l’offre d’emploi CONTEXTE Direction Qualité Système d’Information pour mission transversale piloter d’assurer performance qualité service SI. Les équipes Qualité Service regroupent les activités d’Assistance aux Métiers, Suivi Production Gestion des incidents majeurs des problèmes.',\n",
       "       \"propos l’offre d’emploi Entreprise renom opérant dans secteur l'énergie recrute Chargé(e) d’Approvisionnements Contrats Mission Suivi Flux approvisionnement Commande, confirmation fournisseur, enlèvement, dédouanement réception.\",\n",
       "       \"propos l’offre d’emploi Drive Your Career Lear Corporation leading Tier automotive supplier serving world's major automotive manufacturers world-class automotive seating automotive electrical products. Our products developed produced diverse, talented team 165,000 people. With operations countries, Lear operates every major automotive manufacturing region world. For globally positioned successful teams, looking dedicated talents zest action enthusiasm. love challenges, want experience development opportunities unrestrained, want recognition pays off, come right place Lear. Kenitra JIT Plant Lear Corporation Equal Opportunity Employer, committed diverse workplace. Applicants must submit resume consideration using applicant tracking system. Due high volume applications received, candidates selected interviews contacted. Candidates must legally authorized work without sponsorship. Unsolicited resumes search firms employment agencies, similar, paid fee become property Lear Corporation.\",\n",
       "       'propos l’offre d’emploi POSITION: Data Analyst Intern LOCATION: Remote SCHEDULE: Part-time (10-20h/week) About Brainnest: The business management training company headquartered Bremen, Germany. success-driven firm provides management advisory contracting services customized help companies different industries business management problems. Brainnest runs, leads, manages complex projects initiatives. begun scratch network professionals, Ph.D. holders, highly skilled personnel bring business table practical academic years experience form concrete blueprint company designed. Since 2020, offer combination expertise, proficiency, commitment, leveraging deep industry experience applying analytical rigor deliver exceptional results companies. proudly provide top-class consulting training services wide range industries around world. well-equipped team, advanced tools, modern methodologies correctly utilize offer clients makes best fields. Our team looking Data Analysis Intern join upcoming weeks. This position great aspiring data analysis professional looking work business-critical projects gain relevant work experience. Your profile: You learn to: Brainnest, we’re committed equal employment opportunity regardless race, color, ancestry, religion, sex, national origin, sexual orientation, age, citizenship, marital status, disability, gender, gender identity expression, veteran status. strive equal opportunity workplace.',\n",
       "       'propos l’offre d’emploi Dans cadre politique commerciale (produits services), analyser marché dans son territoire (PMA), concevoir mettre œuvre des actions locales afin générer business, développer des offres veiller l’efficacité rentabilité des actions Marketing pour Véhicule Neuf d’occasion 1.Plan d’action local spécifique:',\n",
       "       \"propos l’offre d’emploi Banque Populaire Marrakech Béni Mellal recrute un(e) Directeur Centre d'Affaires pour Centre Tensift, poste basé Béni Mellal. Missions Assurer suivi marché centre d'affaires positionnement celui- ci, veillant sur l’amélioration part marché PNB.\",\n",
       "       \"propos l’offre d’emploi Nous cherchons pour compte d'une banque multinationale, Chargé Traitement Contrôle (H/F) basé ville Casablanca. Principales missions Assurer contrôle validation des dossiers recertifier dans cadre RECOMENDATION BAM Contrôler documentation rattachée niveau système sur base checklist RECOBAM\",\n",
       "       \"propos l’offre d’emploi Chargé d'affaires (Clients Grands Comptes)- Equipements médicaux- (projets clés mains) Mission Rattaché département Grand Project (secteur privé santés), vous êtes responsable déploiement stratégie commerciale sur secteur privé santé.\",\n",
       "       'propos l’offre d’emploi Conseils Cherche bon profil pouvant donner soutien scolaire des élèves difficultés pour niveau fin primaire dans cadre scolaire Responsabilités Enseigne les maths Français',\n",
       "       'propos l’offre d’emploi Groupe RMO recrute pour compte son client basé Casablanca un/une Réceptionniste Expérimenté(e). Missions Assurer laccueil des clients lhôtel pendant nuit veiller qualité des prestations offertes aux clients. Garantir calme sécurité lhôtel pendant nuit prendre toutes les décisions importantes cas durgence. Profil',\n",
       "       'propos l’offre d’emploi Bonne connaissance des produits des services pour ses clients, suivi des évolutions son secteur d’activité Analyse des besoins des clients élaboration des stratégies adaptées Gestion des comptes clients suivi personnalisé Capacité proposer des services des produits additionnels (up sale cross sale) Recherche nouveaux clients',\n",
       "       'propos l’offre d’emploi DESCRIPTIF L’OFFRE Dans cadre développement notre jeune agence communication spécialisée dans les domaines l’hôtellerie/restauration, nous sommes recherche d’un REDACTEUR WEB SEO H/F.',\n",
       "       'propos l’offre d’emploi Portfolio Obligatoire partager avec nous Missions Rédiger des publications pour les réseaux sociaux les mettre ligne Animer les réseaux sociaux selon ton marque créer contenu spontané',\n",
       "       'propos l’offre d’emploi Bakertilly Majer looking Junior Accountant (M/F) involved carrying accounting work tax social declarations company agricultural sector (VAT declarations, payslips, installments, CNSS/mutual/ CIMR, monthly quarterly accounting situations). Required skills:',\n",
       "       \"propos l’offre d’emploi What You'll BCG GAMMA global business unit combines innovative skills computer science, artificial intelligence, statistics, machine learning deep industry expertise full-life cycle BCG proprietary data software assets. BCG GAMMA integral part BCG’s strategy develop new digital client service offerings deliver superior value sustained impact. The unit responsibilities initial business case roadmap delivery, launch, ongoing support operations. All BCG’s core product capabilities housed within business unit including data engineers, data scientists business consultants specialize use advanced analytics get high-impact business results, well product management, design, development, support, data analytics experts work deep collaboration BCG practice areas, clients, consulting teams. This team highly motivated insightful colleagues provide opportunity work entrepreneurial, start-up environment supported global management consulting firm, world’s leading advisor business strategy The Platform Specialist work collaboration Analytics, Consulting, Platform teams implement support technical solutions Analytics practice, focus Infrastructure technologies. YOU'RE GOOD\",\n",
       "       \"propos l’offre d’emploi Société Générale Africa Technologies Services recrute Index Governance (H/F) Missions Vous serez basé(e) Casablanca, sein filiale Africa Technologies Services (SG ATS). étroite collaboration avec les équipes d'ingénierie Groupe, vous êtes charge supporter l'activité SGI pour assurer développement gamme des indices conçus chez MARK, contribuer efficacement pérennité opérationnelle suivi des indices dans nouvelle plate-forme. Ainsi, rôle poste sera\",\n",
       "       'propos l’offre d’emploi Nombre del sítio: Surrey Weybridge Fecha publicación: Aug 2022 Hello. We’re Haleon. new world-leading consumer health company. Shaped join us. Together, we’re improving everyday health billions people. growing innovating global portfolio category-leading brands including Sensodyne, Panadol, Advil, Voltaren, Theraflu, Otrivin, Centrum unique combination deep human understanding trusted science. What’s more, we’re achieving company we’re control of. environment we’re co-creating. And culture that’s uniquely ours. Care join us. isn’t question. supporting new product development broad analytical experience deliver innovation early-stage method development downstream validation transfers supply sites. The role involve working cross functional project teams, well analytical community, problem-solve deliver technical strategies Global launches international brands Sensodyne, parodontax, Aquafresh Polident. This role provide YOU opportunity lead key activities progress YOUR career, responsibilities include following… Please take copy Job Description, available post closure advert. When applying role, please use ‘cover letter’ online application describe meet competencies role, outlined job requirements above. The information provided cover letter used assess application. Haleon embrace diverse workforce creating inclusive environment celebrates unique perspectives, generates curiosity create unmatched understanding other, promotes fair equitable outcomes everyone. We’re striving create climate celebrate diversity forms treating respect, listening different viewpoints, supporting communities, creating workplace authentic self belongs thrives. believe agile working culture roles. flexibility important you, encourage explore hiring team opportunities are. Como empresa impulsada por nuestros valores enfoque paciente, transparencia, respeto integridad, sabemos que inclusión diversidad son esenciales para que podamos tener éxito. Queremos que todos nuestros colegas prosperen GSK, brindando sus experiencias únicas, asegurándonos que sientan bien que sigan creciendo sus carreras. Como candidato para papel, queremos que usted sienta misma manera. Creemos una cultura trabajo ágil para todos nuestros roles. flexibilidad importante para usted, alentamos explorar con nuestro equipo contratación cuáles son las oportunidades. dude ponerse contacto con nosotros desea analizar cualquier ajuste nuestro proceso que pueda ayudarlo demostrar sus fortalezas capacidades. Puede llamarnos 0808 234 4391 enviar correo electrónico Ukdiversity.recruitment@gsk.com. medida que solicite, pediremos que comparta alguna información personal que sea voluntaria. Esto utilizará para ayudarnos comprender qué tan bien estamos haciendo frente nuestras ambiciones inclusión diversidad. Realmente agradeceríamos pudiera tomarse unos momentos para completarlo. Tenga seguridad que los gerentes contratación tienen acceso esta información, utiliza ninguna parte del proceso selección trataremos información forma confidencial utilizaremos forma anónima.',\n",
       "       \"propos l’offre d’emploi fast changing markets, customers worldwide rely Thales. Thales business brilliant people world come together share ideas inspire other. aerospace, transportation, defence, security space, architects design innovative solutions make tomorrow's possible. Contexte poste sein THM, CSOC assure surveillance (Monitoring sécurité 24/7), prévention (Veille relation avec CERT) management des systèmes sécurité nos clients (Logs Management, Détection Réponses aux incidents sécurité, Analyses Forensic, Expertises sécurité, Audits vulnérabilités, Reportings sécurité). candidat recherché intégrera ligne service Log Management Security Analysis CSOC Thales participera notamment gestion des opérations d'analyse, logs management, réponse aux incidents sécurité pour nos clients d'amélioration continue tant qu’analyste niveau avec l’aide d’un analyste référent Sénior. candidat sera également amené travailler sur des projets d’amélioration interne SOC candidat pourra intervenir sur différents périmètres détection client dans plusieurs domaines: aéronautique, spatial, transport, énergie, télécom sein l’équipe CSOC (CyberSecurity Operation Center), vous travaillerez tant qu’analyste sénior SOC pour délivrer les prestations sécurité opérationnelle pour nos clients. Niveau d’Anglais minimum Thales provide CAREERS jobs. With Thales employing 80,000 employees countries mobility policy enables thousands employees year develop careers home abroad, existing areas expertise branching new fields. Together believe embracing flexibility smarter way working. Great journeys start here, apply now!\",\n",
       "       \"propos l’offre d’emploi ALTEN MAROC filiale leader mondial l'Ingénierie Conseil Technologies (ICT), avec 100 collaborateurs monde dont plus 1100au Maroc répartis sur trois Centres d'Excellence Fès, Rabat Casa, nous accompagnons nos clients offrant des solutions d'ingénierie agiles novatrices pour les grands donneurs d'ordre mondial dans les secteurs l'automobile, l'aéronautique, les réseaux télécoms, Software Outils.\",\n",
       "       \"propos l’offre d’emploi ALTEN MAROC filiale leader mondial l'Ingénierie Conseil Technologies (ICT), avec 000 collaborateurs monde dont plus 1000 Maroc répartis sur trois Centres d'Excellence Fès, Rabat Casa, nous accompagnons nos clients offrant des solutions d'ingénierie agiles novatrices pour les grands donneurs d'ordre mondial dans les secteurs l'automobile, l'aéronautique, les réseaux télécoms, Software Outils. Rejoindre ALTEN MAROC c’est bénéficier\",\n",
       "       'propos l’offre d’emploi MISSION Render quick effective service supply demands different productive sections clients’ deliveries. General Functions (*) The described functions representative position; therefore understood inherent functions related job position. Secondary Vocational Training Medium Degree N/A N/A Warehouse Administration. BPCS',\n",
       "       \"propos l’offre d’emploi Vos missions quotidien Rattaché Département Modélisation sein Direction des Risques, vous aurez pour mission mener des travaux modélisation statistique pour compte des métiers Risques principalement axées sur Risque crédit (Scoring, modèles comportementaux, paramètres provisionnement IFRS 9…). Vous aurez pour missions principales Vous êtes formation scientifique titulaire d'un diplôme universitaire avec une expérience professionnelle Gestion des Risques, Statistique, Data Science. Présente Maroc depuis plus 100 ans, Société Générale Maroc est devenue Groupe financier premier plan, s’appuyant sur modèle éprouvé banque universelle synergies avec ses filiales spécialisées. Société Générale Maroc adapter son organisation son dispositif afin répondre mieux aux attentes tous ses clients Grandes Entreprises, Investisseurs Institutionnels, PME/PMI, Particuliers Professionnels ce, couvrant tous les domaines d’activités proposant une large gamme métiers complémentaires. Maroc, Société Générale est portée par projet d’entreprise visant faire notre banque banque relationnelle référence sur ses marchés, proche ses clients, choisie pour qualité l’engagement ses équipes Près 4000 collaborateurs sont actuellement animés par cette même ambition portée par valeurs phares qui sont l’Esprit d’équipe, l'Engagement, Responsabilité l’Innovation.\",\n",
       "       'propos l’offre d’emploi DESCRIPTION support business strategy digital transformation, AXA setting new information security practice ensure coordinated response increasing threat cybersecurity, enabling consistent decision-making across organization. Our vision information security protect stakeholders securing information resources, managing cyber risks enabling effective efficient business strategies fully sponsored executives supported AXA employees.',\n",
       "       'propos l’offre d’emploi Job Summary DESCRIPTION PLEASE SEND YOUR ENGLISH ONLY love payroll? Come payroll differently us! looking payroll professional wants customer obsessed take payroll experience another level help build rapidly growing company. Every day encouraged driven improve processes look better solutions behalf internal customers. Does sound great? What working on? Can handle more? Don’t meet every single requirement? Not problem. thrive build diverse inclusive team. you’re excited role past experience doesn’t align perfectly every qualification job description, encourage apply anyways. You might right candidate roles Support Srvc Amz S.A.R.L.A.U. Job ID: A2198057',\n",
       "       'propos l’offre d’emploi TECTRA MAROC recrute pour son client, leader dans commercialisation des systèmes photovoltaïques, un/e commercial anglophone sur ville CASABLANCA. Profil Formation bac+3/4 commerce autre, expérience obligatoire plus ans tant que commercial terrain préférence dans marché photovoltaïque domaine similaire.',\n",
       "       \"propos l’offre d’emploi Job Posting Title: QUALITY CONTROL ANALYST TE, unleash potential working people diverse backgrounds industries create safer, sustainable connected world. Job Overview Connectivity's Quality Control Reliability Teams ensure product product components comply specifications quality standards. They test inspect products performance integrity criteria ensure product quality reliability, determine suitability product release. Values: Integrity, Accountability, Teamwork, Innovation\",\n",
       "       \"propos l’offre d’emploi Cette offre d’emploi provient d’un site d’offres d’emploi. savoir plus Chez MaxAB, nous restructurons marché l'alimentation l'épicerie utilisant des technologies fondées sur les données des chaînes d'approvisionnement pointe. consolidant processus chaîne d'approvisionnement, nous sommes mesure d'offrir non seulement meilleurs prix, mais aussi d'améliorer façon dont les détaillants gèrent leurs affaires. MaxAB obtenu millions dollars dans cadre d'une ronde série qui porte l'investissement total l'entreprise plus millions dollars jour. MaxAB dessert plus 55,000 détaillants traité plus d'un million commandes. Elle augmenté plus cinq fois par année. Nos talents MaxAB sont déterminés maintenir culture les valeurs MaxAB tout continuant croître d'améliorer les services offerts pour nos clients. Ils innovent nouvelles façons d'améliorer qualité vie détaillant égyptien bientôt d'autres détaillants dans monde. vous êtes passionné par travail acharné pour faire impact innover nouvelles solutions, MaxAB est recherche des meilleurs talents. Mission Générale Market Research Supervisor MaxAB est chargé sélectionner méthodologie recherche appropriée les techniques soutien pour atteindre objectif commercial défini. Selon les méthodes choisies, directeur recherche développe aide développement l'instrument recherche. directeur recherche travaille étroite collaboration avec les fournisseurs les propriétaires projets d'études marché pour assurer bonne exécution travail sur terrain. Les Tâches Réaliser\",\n",
       "       \"propos l’offre d’emploi 22/06/2022 Entant Que Projeteur Votre Principale Mission Est D'établir Des Plans D'exécution Partir Des Calculs Effectués Par Les Ingénieurs Études Dessiner avec les logiciels appropriés les plans d’ensemble détails bâtiment l’ouvrage construire, intégrant les éléments techniques nécessaires échelles, matériaux, éléments calcul, etc. Vous avez BAC GCI dessin, vous avez minimum ans d'expérience dans poste similaire SOGEA MAROC filiale SOGEA SATOM, société groupe VINCI, acteur majeur marché marocain construction. SOGEA MAROC présente depuis 1922, est l'entreprise référence dans les métiers l'hydraulique, l'ouvrage d'art, génie civil industriel bâtiment. Chez SOGEA MAROC, vision réussite est avant tout globale limite pas uniquement aux aspects économiques. Dans l'optique d'atteindre performance globale, nous sommes engagés dans une démarche conduite par notre Groupe, pour créer valeur long terme, principalement pour nos collaborateurs. Nous sommes profondément convaincus que nos meilleurs ambassadeurs sont nos collaborateurs Partant principe, nous travaillons développer motivation interne afin que nos talents soient fiers d'appartenir SOGEA MAROC. Cette démarche favorise également l'attractivité notre entreprise facilite l'intégration nouveau talent.\",\n",
       "       'propos l’offre d’emploi Afin renforcer les équipes Direction des Ressources Humaines, Crédit Maroc recrute Chargé Pilotage Rémunération. Rattaché Responsable Rémunération Avantages Pilotage Budgétaire, vous prenez charge toutes les activités liées Rémunération. titre, vos missions seront notamment',\n",
       "       \"propos l’offre d’emploi 5531 Mazagan, nous personnalisons chaque aspect séjour nos invités afin les ravir leur faire découvrir l'attrait magie marocaine. Mazagan Beach Golf Resort est une destination véritablement magique, lieu grandeur conjugue avec générosité. Nous recrutons machines sous (H/F) Rejoignez une équipe authentique, créative, chaleureuse professionnelle\",\n",
       "       \"propos l’offre d’emploi Missions Piloter animer l'activité recouvrement sur marché PME travers L’Assistance aux BPR pour dénouement des dossiers, notamment via l’intervention auprès des autres entités (CCG, CTNC, Pôle Engagements…) Participation active aux Comités recouvrement\",\n",
       "       'propos l’offre d’emploi Heb jij een inzichtelijk vermogen ben jij geordend? Dan MediaMarkt Apeldoorn jouw werkplek! Jij bent sleutel voor het ordenen van onze goederen onze winkel. Samen met jouw team zorg jij voor een gevulde, opgeruimde geordende winkel. Jij houdt bezig met het vullen/schoonmaken van winkel, beveiligen van producten verbouwen/herindelen van productpresentaties. Naast deze werkzaamheden zorg jij dat onze klanten met een vraag netjes woord staat. Ook zorg jij samen met jouw team voor een schoon geordend magazijn zodat onze producten makkelijk vinden zijn. MediaMarkt een energiek klantgericht bedrijf. Wij stimuleren eigen initiatief geloven erin dat met passie alles kan bereiken krijgt daarom bij ons ruimte vrijheid jouw werk jouw manier doen. kun jij klantgerichtheid jouw manier laten zien samen met collega’s enthousiasmeren het beste resultaat neer zetten. Ben jij klaar voor deze uitdaging? Dan horen graag van je! overleg alles mogelijk! Ben jij klaar voor deze uitdaging? Zie jij jezelf helemaal aan slag bij MediaMarkt? Solliciteer direct nemen zeer snel contact met jou op! Solliciteer direct nemen zeer snel contact met jou op!',\n",
       "       \"propos l’offre d’emploi GABI management consultancy believes power learning guide decisions, spearhead innovation, create lasting change. dedicated helping organizations individuals grow achieve true potential. Our core curriculum, learning aids intensive approach means clients, include college aspirants, new job seekers seasoned professionals, better able compete succeed today's evolving business environment. Our team looking talented Junior Project Management Trainee join company. This position great young professionals looking bolster resumes consulting careers. GABI, committed equal employment opportunity regardless race, color, ancestry, religion, sex, national origin, sexual orientation, age, citizenship, marital status, disability, gender, gender identity expression, veteran status. strive equal opportunity workplace.\",\n",
       "       \"propos l’offre d’emploi Vos missions quotidien Rattaché Responsable Risque Retail, vous serez charge produire analyser les indicateurs pilotage risque retail. Vous aurez pour missions principales Titulaire d'un diplôme d’ingénieur d’état avec une expérience bancaire d’au moins ans gestion risque retail. Les compétences requises sont: Présente Maroc depuis plus 100 ans, Société Générale Maroc est devenue Groupe financier premier plan, s’appuyant sur modèle éprouvé banque universelle synergies avec ses filiales spécialisées. Société Générale Maroc adapter son organisation son dispositif afin répondre mieux aux attentes tous ses clients Grandes Entreprises, Investisseurs Institutionnels, PME/PMI, Particuliers Professionnels ce, couvrant tous les domaines d’activités proposant une large gamme métiers complémentaires. Maroc, Société Générale est portée par projet d’entreprise visant faire notre banque banque relationnelle référence sur ses marchés, proche ses clients, choisie pour qualité l’engagement ses équipes Près 4000 collaborateurs sont actuellement animés par cette même ambition portée par valeurs phares qui sont l’Esprit d’équipe, l'Engagement, Responsabilité l’Innovation.\",\n",
       "       'propos l’offre d’emploi Missions clés Pilotage programme métiers dans domaine Gestion Électronique des Document GED EDM Domaines fonctionnels Techniques',\n",
       "       'propos l’offre d’emploi POSITION: Market Research Analyst Intern LOCATION: Remote SCHEDULE: Part-time (10-20h/week) About Brainnest: The business management training company headquartered Bremen, Germany. success-driven firm provides management advisory contracting services customized help companies different industries business management problems. Brainnest runs, leads, manages complex projects initiatives. begun scratch network professionals, Ph.D. holders, highly skilled personnel bring business table practical academic years experience form concrete blueprint company designed. Since 2020, offer combination expertise, proficiency, commitment, leveraging deep industry experience applying analytical rigor deliver exceptional results companies. proudly provide top-class consulting training services wide range industries around world. well-equipped team, advanced tools, modern methodologies correctly utilize offer clients makes best fields. Our team looking Market Research Analysis Intern join upcoming weeks. This position great aspiring market research professional looking work business-critical projects gain relevant work experience. Your profile: You learn to: Brainnest, we’re committed equal employment opportunity regardless race, color, ancestry, religion, sex, national origin, sexual orientation, age, citizenship, marital status, disability, gender, gender identity expression, veteran status. strive equal opportunity workplace.',\n",
       "       \"propos l’offre d’emploi Sales Manager, directly receive meaningful responsibilities day one. You charge maintaining expanding long-term partnership customer continuously proposing solutions plans meet objectives. so, you’ll develop keen understanding product categories markets. Whilst building plans, develop negotiating sales skills, also financial marketing skills, analytical insights logistical understanding responsible client A-Z. You'll part customer team trust, team spirit, real passion winning leadership important.\",\n",
       "       'propos l’offre d’emploi Groupe RMO recrute plusieurs Chargé(e)s Recouvrement Amiable pour lun ses clients Missions Analyser situation débiteur Formaliser des propositions règlement Profil',\n",
       "       \"propos l’offre d’emploi About Kenz'up Join new moroccan tech startup! Kenz'up startup launched June 2020, funded backed big moroccan corporation aiming diversify activities towards digital financial services. Prior that, Kenz'up incubated months BCG-DV delivered world class MVP Market strategy. Kenz'up ambition develop wide range financial services used millions moroccans daily life support national financial inclusion strategy. Kenz'up hiring Data Scientist within data team, working variety exciting problems improving customer experience content personalization fraud detection. You also work generate actionable insights data. Our Data Engineer make sure right data hands time. You'll also required transform Data meaningful changes operations, decision-making awareness. Data Scientist, design, deploy evaluate machine learning models scale cutting-edge infrastructure, that's MLOps techniques skills highly valuable. What need\",\n",
       "       'propos l’offre d’emploi Nombre del sítio: Surrey Weybridge Fecha publicación: Oct 2022 Hello. We’re Haleon. new world-leading consumer health company. Shaped join us. Together, we’re improving everyday health billions people. growing innovating global portfolio category-leading brands including unique combination deep human understanding trusted science. What’s more, we’re achieving company we’re control of. environment we’re co-creating. And culture that’s uniquely ours. Care join us. isn’t question. new role full-time permanent basis. responsible driving transformational activities value-based operations within Cloud space, including security, network, network security, managing MSP deliver activities. You also provide leadership deliver design manage deployment operations products, deliver new products/solutions, improving quality anticipating future needs within cloud space. This role provide YOU opportunity lead key activities progress YOUR career. These responsibilities include following: possess following addition above, would plus: APPLICATION CLOSING DATE When applying role, please use ‘cover letter’ online application describe meet competencies role, outlined job requirements above. The information provided cover letter used assess application. Haleon embrace diverse workforce creating inclusive environment celebrates unique perspectives, generates curiosity create unmatched understanding other, promotes fair equitable outcomes everyone. We’re striving create climate celebrate diversity forms treating respect, listening different viewpoints, supporting communities, creating workplace authentic self belongs thrives. believe agile working culture roles. flexibility important you, encourage explore hiring team opportunities are. Como empresa impulsada por nuestros valores enfoque paciente, transparencia, respeto integridad, sabemos que inclusión diversidad son esenciales para que podamos tener éxito. Queremos que todos nuestros colegas prosperen GSK, brindando sus experiencias únicas, asegurándonos que sientan bien que sigan creciendo sus carreras. Como candidato para papel, queremos que usted sienta misma manera. Creemos una cultura trabajo ágil para todos nuestros roles. flexibilidad importante para usted, alentamos explorar con nuestro equipo contratación cuáles son las oportunidades. dude ponerse contacto con nosotros desea analizar cualquier ajuste nuestro proceso que pueda ayudarlo demostrar sus fortalezas capacidades. Puede llamarnos 0808 234 4391 enviar correo electrónico Ukdiversity.recruitment@gsk.com. medida que solicite, pediremos que comparta alguna información personal que sea voluntaria. Esto utilizará para ayudarnos comprender qué tan bien estamos haciendo frente nuestras ambiciones inclusión diversidad. Realmente agradeceríamos pudiera tomarse unos momentos para completarlo. Tenga seguridad que los gerentes contratación tienen acceso esta información, utiliza ninguna parte del proceso selección trataremos información forma confidencial utilizaremos forma anónima.',\n",
       "       \"propos l’offre d’emploi ALTEN MAROC filiale leader mondial l'Ingénierie Conseil Technologies (ICT), avec 000 collaborateurs monde dont plus 1100 Maroc répartis sur trois Centres d'Excellence Fès, Rabat Casa, nous accompagnons nos clients offrant des solutions d'ingénierie agiles novatrices pour les grands donneurs d'ordre mondial dans les secteurs l'automobile, l'aéronautique, les réseaux télécoms, Software Outils. Rejoindre ALTEN MAROC c'est bénéficier\",\n",
       "       'propos l’offre d’emploi Word jij enthousiast van klanten elektronica? Dan MediaMarkt Apeldoorn jouw werkplek! Wij helpen jou specialist worden, mocht nog niet benodigde kennis beschikken. Samen met klant draag jij bij aan oplossing die het beste bij klant past. vindt het leuk klanten het beste advies geven als tevreden met hun aankoop winkel uit ziet lopen, maakt dit trots, jezelf MediaMarkt. Samen met collega’s ben een team sta klaar klanten een onvergetelijke ervaring bieden. help elkaar het elke dag weer een feestje! MediaMarkt een energiek klantgericht bedrijf. Wij stimuleren eigen initiatief geloven erin dat met passie alles kan bereiken krijgt daarom bij ons ruimte vrijheid jouw werk jouw manier doen. kun jij klantgerichtheid jouw manier laten zien samen met collega’s enthousiasmeren het beste resultaat neer zetten. Ben jij klaar voor deze uitdaging? Dan horen graag van je! overleg alles mogelijk! Ben jij klaar voor deze uitdaging? Zie jij jezelf helemaal aan slag bij MediaMarkt? Solliciteer direct nemen zeer snel contact met jou op!',\n",
       "       \"propos l’offre d’emploi ALTEN MAROC filiale leader mondial l'Ingénierie Conseil Technologies (ICT), avec 000 collaborateurs monde dont plus 1000 Maroc répartis sur trois Centres d'Excellence Fès, Rabat Casa, nous accompagnons nos clients offrant des solutions d'ingénierie agiles novatrices pour les grands donneurs d'ordre mondial dans les secteurs l'automobile, l'aéronautique, les réseaux télécoms, Software Outils. Rejoindre ALTEN MAROC c’est bénéficier\",\n",
       "       'propos l’offre d’emploi Royal Mansour Marrakech recrute (e) Trésorier Général. Principales activités responsabilités Assurer caisse recette caisse dépenses hôtel Assurer relation Banque Hôtel (dépôt recette, virements… recevoir des fonds dotations devises)',\n",
       "       \"propos l’offre d’emploi Principales missions poste Rattaché Direction des Ressources Humaines Groupe, vou aurez pour principales missions de: Paramétrer assurer maintenance SIRH, Développer les outils pilotage RH, Prendre charge coordonner les projets d'évolution SIRH,\",\n",
       "       \"propos l’offre d’emploi Drive Your Career Lear Corporation leading Tier automotive supplier serving world's major automotive manufacturers world-class automotive seating automotive electrical products. Our products developed produced diverse, talented team 165,000 people. With operations countries, Lear operates every major automotive manufacturing region world. For globally positioned successful teams, looking dedicated talents zest action enthusiasm. love challenges, want experience development opportunities unrestrained, want recognition pays off, come right place Lear. Lear Corporation Equal Opportunity Employer, committed diverse workplace. Applicants must submit resume consideration using applicant tracking system. Due high volume applications received, candidates selected interviews contacted. Candidates must legally authorized work United States without sponsorship. Unsolicited resumes search firms employment agencies, similar, paid fee become property Lear Corporation.\",\n",
       "       \"propos l’offre d’emploi Fed Africa est cabinet recrutement par approche directe par annonces, dédié continent africain, intervenant sur des fonctions Middle Top Management, Fed Africa pour vocation d'accompagner les groupes locaux internationaux dans leurs développements sur zone Afrique. Job Description Nous recherchons pour nos clients, opérant dans secteur agro-industriel, Directeur technique (H/F) basé dans zone Océan Indien.\",\n",
       "       'propos l’offre d’emploi CommonShare building platform ecosystem service trillion growing sustainable procurement market. Retailers, producers, suppliers, certification bodies, standard owners searching easy solution manage sustainability compliance. CommonShare building multi-sided marketplace experience accompanying SaaS toolset ease sustainability compliance, communication commerce. The platform solution world specifically creating common protocol sustainability compliance. looking innovative motivated Technical Product Manager manage multi-team development operational delivery large portfolio technical projects understanding business requirements, managing changes, removing roadblocks, communicating broadly multiple functional groups stakeholders. position, anticipate bottlenecks, provide escalation management, build consensus understanding stakeholder requirements constraints. You expected clearly communicate goals, roles, responsibilities, desired outcomes cross-functional teams. You’ll also following:',\n",
       "       'propos l’offre d’emploi Rattaché (e) DRH vos principales missions seront: Gestion pointage: gestion pointage des permanents (Traitement journalier pointage; Gestion des autorisations d’absence, Suivi des soldes des congés, Gestion des demandes récupération)',\n",
       "       'propos l’offre d’emploi Dans cadre l’accompagnement nos clients sur leurs projets transformation des Paiements, nous recherchons Tech Lead Fullstack ayant une expérience entre ans dans développement Back-end Front-end, une excellente posture consultant (Communication, Présentation, Sens service) une motivation pour monter compétences sur des technologies émergentes. Votre profil',\n",
       "       \"propos l’offre d’emploi Clifford Chance ouvert janvier 2012 bureau Casablanca. s'agit première implantation Cabinet Afrique qui couvre déjà les pays d'Afrique Nord Sub-Sahariens. Clifford Chance est actif Afrique depuis ans aide les clients identifier les opportunités consolide avec nouveau bureau notre très forte implantation sur continent africain. bureau Casablanca couvre une gamme complète d'activités telles que les cessions rapprochements sociétés cotées non, private equity, opérations sur les marchés capitaux, joint ventures, restructurations, opérations transfrontalières. bureau conseille également nos clients sur une gamme complète produits bancaires financiers comprenant notamment financement projets, les partenariats droit public/privé, financement d'actifs, réglementation bancaire financière. Notre approche métier d'avocat est transversale répond diversité des compétences requises dimension géographique que nos clients attendent nos services. Ainsi, les avocats bureau Casablanca sont amenés travailler étroitement avec des spécialistes d'autres disciplines, non seulement Casablanca mais également dans tous les autres pays couverts par notre réseau afin d'utiliser l'expertise locale internationale Clifford Chance service des besoins nos clients. Les stagiaires sont totalement intégrés l'équipe participent aux opérations cours aux côtés d'avocats expérimentés. Ils ont l'occasion travailler sur une grande variété dossiers d'appréhender les opérations début fin, leur donnant l'opportunité d'approfondir leurs connaissances techniques, faire preuve leurs qualités organisationnelles relationnelles. Whatever area expertise, find range career opportunities Clifford Chance. And wherever you’re heading, Clifford Chance true ambitions. Our firm, work people span jurisdictions, cultures languages. world commercial success increasingly relies globalisation, offer clients truly international perspective, offer people rewarding stimulating career. We're proud approachable, friendly team-based way working. Highly professional self-assured, entrepreneurial streak, people happy share expertise knowledge. find like work Clifford Chance Morocco please visit link Clifford Chance understand true asset people. Inclusion good team families, firm society. committed treating employees applicants fairly equally regardless gender, gender identity expression, marital civil partnership status, race, colour, national ethnic origin, social economic background, disability, religious belief, sexual orientation, age. This applies recruitment selection, terms conditions employment including pay, promotion, training, transfer every aspect employment. Our goal deliver equality opportunity, equality aspiration equality experience everyone works firm. Find Morocco-Casablanca-Casablanca Casablanca Graduates Law Students Fixed Term Dec 31, 2021 Ongoing Not applicable\",\n",
       "       \"propos l’offre d’emploi Votre Mission Chez Cegedim Analyser des entrants niveau test évaluer charge Participer l’élaboration priorisation Product Backlog par valorisation des points d’efforts termes tests Participer validation des critères d’acceptance avec Product Owner s’engager sur Définition Done pour partie Tests, Jeune Diplômé(e) Informatique BAC+5 souhaitant évoluer autant qu'ingénieur Testeur fonctionnel automatisation. SQL\",\n",
       "       'propos l’offre d’emploi Contexte enjeux Orange Maroc est une filiale groupe Orange présentant des enjeux croissance taille sur l’ensemble des lignes Business Wholesale, Orange Money, dans marché fortement concurrentiel. Orange Maroc est opérateur télécommunications multi-services opérant dans les activités mobile, fixe, cybersécurité mobile money. L’opérateur déploie des réseaux très haut débit fixe mobile, avec FTTH (Fibre Home) pour répondre l’évolution des usages, aux mutations technologiques ainsi qu’aux attentes ses clients.',\n",
       "       \"propos l’offre d’emploi Job Posting Title: QUALITY ANALYST TE, unleash potential working people diverse backgrounds industries create safer, sustainable connected world. Job Overview Connectivity's Quality Assurance Teams responsible part organization's Quality Management System, including conformance continuous improvement initiatives. They work systemic evaluation products, services, facilities, manufacturing business processes, ensure standards quality met. Develop implement quality plans, programs procedures using quality control statistics, lean manufacturing concepts, six-sigma tools analyses. They reviews, analyze report quality discrepancies, investigate problems executes quality audits, develops disposition corrective actions recurring discrepancies. The team works closely manufacturing, engineering, customers, suppliers subcontractors ensure requirements met. Values: Integrity, Accountability, Teamwork, Innovation\",\n",
       "       \"propos l’offre d’emploi Drive Your Career Lear Corporation leading Tier automotive supplier serving world's major automotive manufacturers world-class automotive seating automotive electrical products. Our products developed produced diverse, talented team 165,000 people. With operations countries, Lear operates every major automotive manufacturing region world. For globally positioned successful teams, looking dedicated talents zest action enthusiasm. love challenges, want experience development opportunities unrestrained, want recognition pays off, come right place Lear. Vous recherchez une expérience passionnante oui, rejoignez notre équipe notre entreprise dynamiques, passionnantes croissance rapide RESPONSABILITES MATIERE SYSTEME QUALITE ENVIRONNEMENT Lear Corporation Equal Opportunity Employer, committed diverse workplace. Applicants must submit resume consideration using applicant tracking system. Due high volume applications received, candidates selected interviews contacted. Candidates must legally authorized work United States without sponsorship. Unsolicited resumes search firms employment agencies, similar, paid fee become property Lear Corporation.\",\n",
       "       'propos l’offre d’emploi Groupe RMO recrute pour son client conseiller commercial automobile motorisé sur ville Marrakech. Principales Responsabilités Présence programmée régulière auprès des concessionnaires son segment Entretenir connaissance portefeuille des concessionnaires marché connaissance des interlocuteurs, des produits (de leur qualité leur prix) Profil',\n",
       "       'propos l’offre d’emploi MISSION Render quick effective service supply demands different productive sections clients’ deliveries. General Functions (*) The described functions representative position; therefore understood inherent functions related job position. Secondary Vocational Training Medium Degree N/A N/A Warehouse Administration. BPCS',\n",
       "       'propos l’offre d’emploi About Yassir Yassir leading super App demand payment services Maghreb region set changing way daily services provided. currently operates cities across Algeria, Morocco Tunisia recent expansions France, Canada Sub-Saharan Africa. backed (+$43M funding) VCs Silicon Valley, Europe parts world including Combinator, precursor likes Airbnb, Stripe, Dropbox, Doordash, among others. offer on-demand services ride-hailing last-mile delivery. Building infrastructure, introducing financial services help users pay, save borrow digitally. Helping usher continent digital economy era. We’re serving people we’re creating marketplace bring people need infusing social values. Main missions +Transmit brand image company +Do prospecting +Go door door present products +Develop sales customer portfolio +Highlight products +Know market +Attract new customers win contracts +Advise make recommendations clients +Make sure maintain regular contact +Ensure commercial administrative follow-up sector +Be proactive candidat doit etre absolument résidant Rabat, want become part first-class team? Then absolutely send application. PS: And want stand application, let know cover letter team. Diversity Inclusion Engagement: celebrate diversity committed creating inclusive environment employees, believe diverse teams successful long term. discriminate basis race, color, religion, marital status, age, national origin, ancestry, physical mental disability, medical condition, pregnancy, genetic information, gender, sexual orientation, gender identity expression, encourage people equally apply jobs us.',\n",
       "       'propos l’offre d’emploi MISSION Render quick effective service supply demands different productive sections clients’ deliveries. General Functions (*) The described functions representative position; therefore understood inherent functions related job position. Secondary Vocational Training Medium Degree N/A N/A Warehouse Administration. BPCS',\n",
       "       'propos l’offre d’emploi Description poste Solutions est recherche candidats anglophones bilingues (anglais français) qui ont une passion pour les médias sociaux, qui aiment établir des relations avec les clients qui aiment relever des défis vente par biais d’interactions téléphoniques. Sous supervision chef d’équipe, représentant des ventes sera chargé fournir des solutions marketing numérique diverses entreprises, leur permettant ainsi d’accroître leur visibilité sur web. Nous vous offrons possibilité d’apprendre développer vos compétences vos talents dans une carrière enrichissante grâce notre programme d’avancement. Que Nous Offrons Responsabilités Avantages',\n",
       "       'propos l’offre d’emploi Nome Local: GSK Weybridge Headquarters Data Publicação: Jun 2022 Document Management Technical Specialist GSK Consumer Healthcare, incredible journey prepare create new, standalone, world leading company 100% single-minded focus everyday health. time work never mattered more. With COVID pandemic, people increasingly looking ways manage health wellbeing take care families. This come in. With category leading brands Sensodyne, Voltaren Centrum, built trusted science human understanding, combined passion, knowledge expertise, uniquely placed deliver better everyday health millions people around world grow strong, successful business. This opportunity part something special. Lead Architect Document Management Service Integration Management (SIAM) function, senior member team responsible delivering Document Management modern Digital Workplace services colleagues across Consumer Healthcare Business. The responsibilities role include following: following characteristics, would plus: Consumer Healthcare embrace diverse workforce creating inclusive environment celebrates unique perspectives, generates curiosity create unmatched understanding other, promotes fair equitable outcomes everyone. We’re striving create climate celebrate diversity forms treating respect, listening different viewpoints, supporting communities, creating workplace authentic self belongs thrives. Recently we’ve shared exciting proposals colleagues mark important moment preparations separation becoming new, standalone Consumer Healthcare company. Our preparations going well. GSK track separate mid-2022 create two incredible new companies, ability improve health millions patients consumers worldwide, great places work. We’ve already confirmed new Consumer Healthcare company headquartered first step we’re taking announce proposals move business current location GSK House Brentford separate, new, headquarters Weybridge. This temporary, important move short term, whilst take opportunity design future create inspiring, flexible, collaborative workspace meets changing needs people business needs. Inspired new culture purpose, commitment sustainability goals, plan build new campus close would home headquarters teams, business, global Oral Health category, R&D innovation teams, well state-of-the-art Shopper Science lab. Como uma empresa impulsionada por nossos valores Foco paciente, Transparência, Respeito Integridade, sabemos que inclusão diversidade são essenciais para que possamos ter sucesso. Queremos que todos nossos colegas prosperem GSK, trazendo suas experiências únicas, garantindo que sintam bem continuem crescendo suas carreiras. Como candidato papel, queremos que você sinta mesma maneira. Acreditamos uma cultura trabalho ágil para todos nossos papéis. flexibilidade importante para você, nós encorajamos você explorar com nossa equipe contratação quais são oportunidades. Não hesite nos contatar quiser discutir quaisquer ajustes nosso processo que possam ajudá-lo demonstrar seus pontos fortes capacidades. Você pode nos ligar 0808 234 4391, enviar email Ukdiversity.recruitment@gsk.com. inscrever, pediremos que você compartilhe algumas informações pessoais que são voluntárias. Isso será usado para nos ajudar entender quão bem estamos indo contra nossas ambições inclusão diversidade. Nós agradeceríamos muito você pudesse levar alguns momentos para completá-lo. Não preocupe, Gerentes Contratação não têm acesso essas informações, não são usados nenhuma parte processo seleção nós trataremos suas informações confidencialmente usaremos isso anonimamente.',\n",
       "       \"propos l’offre d’emploi ALTEN MAROC filiale leader mondial l'Ingénierie Conseil Technologies (ICT), avec 46000 collaborateurs monde dont plus 1100 Maroc répartis sur trois Centres d'Excellence Fès, Rabat Casa, nous accompagnons nos clients offrant des solutions d'ingénierie agiles novatrices pour les grands donneurs d'ordre mondial dans les secteurs l'automobile, l'aéronautique, les réseaux télécoms, Software Outils. Rejoindre ALTEN MAROC c'est bénéficier\",\n",
       "       'propos l’offre d’emploi ALTEN MAROC filiale leader mondial l’Ingénierie Conseil Technologies (ICT), avec 000 collaborateurs monde dont plus de1000 Maroc répartis sur deux Centres d’Excellence Fès Rabat, nous accompagnons nos clients offrant des solutions d’ingénierie agiles novatrices pour les grands donneurs d’ordre mondiaux dans les secteurs l’automobile, l’aéronautique, les réseaux télécoms, Software Outils. Rejoindre ALTEN MAROC c’est bénéficier',\n",
       "       'propos l’offre d’emploi Contexte L’Ecole Arts Métiers campus Rabat (EAMR) possède statut d’un établissement d’enseignement supérieur privé qui est fruit d’un partenariat entre l’Etat Marocain, CDG Arts Métiers France. Elle sera organisée selon modèle d’enseignement supérieur, recherche d’entrepreneuriat des campus français Arts Métiers conformité avec règlementation française pour permettre délivrance des diplômes Arts Métiers, conformité avec règlementation marocaine pour permettre délivrance des diplômes nationaux marocains après reconnaissance l’établissement par l’Etat marocain.',\n",
       "       'propos l’offre d’emploi Rattaché aux équipes opérationnelles, team lead technico-fonctionnel assure relai des chefs projet métier suivi l’équipe. analyse besoin fonctionnel, prototype réalise les nouveaux services applicatifs dans respect des normes procédures sur base des spécifications fonctionnelles émises l’aide l’outil programmation visuelle Blocky. Missions',\n",
       "       'propos l’offre d’emploi Word jij enthousiast van klanten elektronica? Dan MediaMarkt Apeldoorn jouw werkplek! Wij helpen jou specialist worden, mocht nog niet benodigde kennis beschikken. Samen met klant draag jij bij aan oplossing die het beste bij klant past. vindt het leuk klanten het beste advies geven als tevreden met hun aankoop winkel uit ziet lopen, maakt dit trots, jezelf MediaMarkt. Samen met collega’s ben een team sta klaar klanten een onvergetelijke ervaring bieden. help elkaar het elke dag weer een feestje! MediaMarkt een energiek klantgericht bedrijf. Wij stimuleren eigen initiatief geloven erin dat met passie alles kan bereiken krijgt daarom bij ons ruimte vrijheid jouw werk jouw manier doen. kun jij klantgerichtheid jouw manier laten zien samen met collega’s enthousiasmeren het beste resultaat neer zetten. Ben jij klaar voor deze uitdaging? Dan horen graag van je! Ben jij klaar voor deze uitdaging? Zie jij jezelf helemaal aan slag bij MediaMarkt? Solliciteer direct nemen zeer snel contact met jou op!',\n",
       "       'propos l’offre d’emploi Société Générale Africa Technologies Services recrute Support Applicatif Officer (H/F) Missions plateforme SGMarkets permet proposer aux clients Wholesale Société Générale accès unique notre univers d’expertises solutions avec une offre couvrant chaîne valeur finance. Dans cadre, votre rôle consistera assister les utilisateurs cette plateforme (clients utilisateurs internes), avec une expertise étendue sur partie Pre-trade (analyse financière). C’est poste dynamique, avec nouveaux challenges quotidiens dans environnement stimulant enrichissant.',\n",
       "       'propos l’offre d’emploi Medical Rep. Hospital PSYCHIATRY Location: Morocco, Rabat Contract: Permanent Johnson Johnson immediate opening MEDICAL REP HOSPITAL PSYCHIATRY based Rabat, Morocco. This professional key link company healthcare professionals responsible promoting registered product group products highly specialized therapeutic area. The Sales representative deals variety customers including physicians, pharmacists, important stakeholders public private. Comply local laws HCBI guidelines, Foreign Corrupt Practices Act (FCPA), Policy Business Conduct (PBC). Morocco-Center-Casablanca- Johnson Johnson Morocco S.A. (7255) Sales 2206077912W',\n",
       "       'propos l’offre d’emploi sein d’une équipe projet fonctionnant mode collaboratif Agile scrum, Kanban, vous serez l’un des développeurs, travaillant coordination avec product-Owner, Scrum Master, les Business Analysts, les développeurs équipes partenaires. Dans contexte Agile, vous effectuerez différentes tâches L’analyse des besoins métiers proposition solutions',\n",
       "       'propos l’offre d’emploi DESCRIPTION support business strategy digital transformation, AXA setting new information security practice ensure coordinated response increasing threat cybersecurity, enabling consistent decision-making across organization.',\n",
       "       'propos l’offre d’emploi Objectif Pertinence Globale Pour L’organisation Contribue atteindre dépasser les objectifs ventes d’indicateurs performance clés magasin travers Établisse lien fort avec les clients atteigne les valeurs marque l’entreprise. Servir vendre aux clients exécuter consciencieusement les opérations magasin. Principales Responsabilités',\n",
       "       'propos l’offre d’emploi Vous serez point d’entrée des demandes (projets, évolutions, maintenance) exprimées par les directions métiers, vous assurerez l’interface avec les équipes maîtrise d’œuvre. Vous êtes garant suivi des projets dont vous assurerez cadrage, l’organisation, pilotage jusqu’à leur mise production, veillant respect des objectifs des engagements pris avec les Directions Métiers Vous aurez pour principales missions',\n",
       "       'propos l’offre d’emploi Sta jij sterk schoenen wil jij altijd het beste voor klant? Dan MediaMarkt Apeldoorn jouw werkplek! Wij helpen jou specialist worden, mocht nog niet benodigde kennis beschikken. Jij zorgt voor best mogelijke oplossing voor onze klant aan servicekant jij bezorgt onze klant een glimlach aan kassakant. Als kassa/service medewerker opereer jij het gebied van customer care, cash line, info-services, aftersales, reparaties callcenter. Jij houdt van een afwisselende baan staat het liefst nooit stil. Samen met jouw team ben jij verantwoordelijk voor totaaloplossing voor onze klant! MediaMarkt een energiek klantgericht bedrijf. Wij stimuleren eigen initiatief geloven erin dat met passie alles kan bereiken krijgt daarom bij ons ruimte vrijheid jouw werk jouw manier doen. kun jij klantgerichtheid jouw manier laten zien samen met collega’s enthousiasmeren het beste resultaat neer zetten. Ben jij klaar voor deze uitdaging? Dan horen graag van je! overleg alles mogelijk! Ben jij klaar voor deze uitdaging? Zie jij jezelf helemaal aan slag bij MediaMarkt? Solliciteer direct nemen zeer snel contact met jou op!',\n",
       "       \"propos l’offre d’emploi Nous recherchons pour compte notre client, Talent Acquisition Consultant (H/F) basé Technopolis Salé. Principales missions: poste implique travailler étroite collaboration avec les responsables métiers pour s'assurer leur exigence sur type talent qu'ils recherchent\",\n",
       "       'propos l’offre d’emploi Finalité poste Piloter animer les dispositifs veille conformité réglementaire Principales Missions postes Sur son périmètre d’activités, Chargé Supervision Conformité Référencer les textes réglementaires /législatifs assurer communication avec les métiers.',\n",
       "       'propos l’offre d’emploi Notre mission depuis ans Être présent bon moment Notre expertise Accompagner nos clients capter l’attention l’utilisateur transformer cette interaction furtive une interaction mémorable. C’est dans cette optique que nous accompagnons les entreprises dans mise œuvre, pilotage dispositifs digitaux pour une expérience utilisateur réinventée.',\n",
       "       'propos l’offre d’emploi Stage mois) pourvoir janvier 2022 Intégré(e) sein des équipes Deloitte Nearshore, vous participerez différentes missions d’audit principalement Préparation des leadsheets Poste basé Casablanca.',\n",
       "       \"propos l’offre d’emploi GABI management consultancy believes power learning guide decisions, spearhead innovation, create lasting change. dedicated helping organizations individuals grow achieve true potential. Our core curriculum, learning aids intensive approach means clients, include college aspirants, new job seekers seasoned professionals, better able compete succeed today's evolving business environment. Our team looking talented Junior Project Management Trainee join company. This position great young professionals looking bolster resumes consulting careers. GABI, committed equal employment opportunity regardless race, color, ancestry, religion, sex, national origin, sexual orientation, age, citizenship, marital status, disability, gender, gender identity expression, veteran status. strive equal opportunity workplace.\",\n",
       "       \"propos l’offre d’emploi Prendre charge déploiement politique commerciale LESAFFRE Maroc présence niveau zone d'affectation Définir les objectifs vente qualitatifs quantitatifs pour les membres Dépositaire Distributeur Animer, organiser, coordonner gérer l’activité l'équipe dépositaire, contrôler réalisation des objectifs participer vente elle-même Effectuer accompagnement périodique terrain avec l’ensemble l’équipe des vendeurs livreurs afin remédier aux problèmes d’exécution identifier les leviers croissance\",\n",
       "       'propos l’offre d’emploi SkillCheck Engineer Diploma equivalent Excellent interpersonal negotiation skills knowledge in: Project; ISO 9001:2015 IATF 16949:2016 VDA QMC AIAG MRP',\n",
       "       'propos l’offre d’emploi Dans cadre son développement, notre client recrute Chef D’équipe Production ALIMENTS POUR ANIMAUX Missions: Organisation quotidienne site production lancement suivi. Management planification des tâches l’équipe production. Contrôle production fabrication échantillons.',\n",
       "       'propos l’offre d’emploi Chargée Service Client Télétravail Salaire: 4000 6500 moroccan dirham Description poste: chargée service client',\n",
       "       'propos l’offre d’emploi Description poste sein l’équipe développement, vous participerez création, provisionnement, configuration maintenance l’infrastructure Cloud nécessaire aux produits développés, ainsi qu’à gestion des déploiements sur Cloud. Vous travaillerez mode agile sein d’une équipe passionnée dynamique, sur des technologies toujours plus innovantes. Les projets sont effectués soit chez nos clients, soit directement dans les locaux CGI. Fonctions responsabilités L’Ingénieur DevOps est amené suivre roadmap les projets afin définir automatiser les processus déploiement d’exploitation sur Azure AWS, ainsi que l’outillage associé. Qualités requises pour réussir dans rôle Alors que technologie s’inscrit cœur transformation numérique nos clients, nous savons que les individus sont cœur succès affaires. Lorsque vous rejoignez CGI, vous devenez conseiller confiance, collaborant avec vos collègues clients pour proposer des idées exploitables qui produisent des résultats concrets durables. Nous appelons nos employés \"membres\" parce qu’ils sont actionnaires propriétaires CGI. Ils ont plaisir travailler grandir ensemble pour bâtir une entreprise dont nous sommes fiers. C’est notre rêve depuis 1976. nous menés nous sommes aujourd’hui l’une des plus importantes entreprises indépendantes conseil technologie l’information (TI) management monde. Chez CGI, nous reconnaissons richesse que diversité nous apporte. Nous aspirons créer une culture laquelle nous appartenons tous collaborons avec nos clients pour créer des communautés plus inclusives. tant qu’employeur qui prône l’égalité des chances pour tous, nous voulons donner tous nos membres les moyens réussir s’épanouir. vous avez besoin d’un accompagnement spécifique durant processus recrutement d’intégration, veuillez nous informer. Nous serons heureux vous aider. Prêt faire partie d’une entreprise qui est gage d’excellence? Rejoignez CGI vos idées vos actions changent donne.',\n",
       "       'propos l’offre d’emploi Nous recherchons pour compte notre client établissement hôtelier situé sur ville Casablanca, Un(e) Valet détage (F/H). Missons Réapprovisionner les stock produits daccueil linge pour personnel détage. Vous garantissez bonne tenue réserve bon niveau stock des produits. Profil- Avoir une première expérience dans établissement similaire.',\n",
       "       'propos l’offre d’emploi Dans cadre l\\'évènement recrutement \"One Week One Job, Société Générale African Business Services\", 1er juin 2021, Novancy One recherche les profils suivants Ingénieurs Change',\n",
       "       'propos l’offre d’emploi Nombre del sítio: Surrey Weybridge Fecha publicación: Sep 2022 Hello. We’re Haleon. new world-leading consumer health company. Shaped join us. Together, we’re improving everyday health billions people. growing innovating global portfolio category-leading brands including Sensodyne, Panadol, Advil, Voltaren, Theraflu, Otrivin, Centrum unique combination deep human understanding trusted science. What’s more, we’re achieving company we’re control of. environment we’re co-creating. And culture that’s uniquely ours. Care join us. isn’t question. This exciting time join help shape future. It’s opportunity part something special. Haleon embrace diverse workforce creating inclusive environment celebrates unique perspectives, generates curiosity create unmatched understanding other, promotes fair equitable outcomes everyone. We’re striving create climate celebrate diversity forms treating respect, listening different viewpoints, supporting communities, creating workplace authentic self belongs thrives. believe agile working culture roles. flexibility important you, encourage explore hiring team opportunities are. Como empresa impulsada por nuestros valores enfoque paciente, transparencia, respeto integridad, sabemos que inclusión diversidad son esenciales para que podamos tener éxito. Queremos que todos nuestros colegas prosperen GSK, brindando sus experiencias únicas, asegurándonos que sientan bien que sigan creciendo sus carreras. Como candidato para papel, queremos que usted sienta misma manera. Creemos una cultura trabajo ágil para todos nuestros roles. flexibilidad importante para usted, alentamos explorar con nuestro equipo contratación cuáles son las oportunidades. dude ponerse contacto con nosotros desea analizar cualquier ajuste nuestro proceso que pueda ayudarlo demostrar sus fortalezas capacidades. Puede llamarnos 0808 234 4391 enviar correo electrónico Ukdiversity.recruitment@gsk.com. medida que solicite, pediremos que comparta alguna información personal que sea voluntaria. Esto utilizará para ayudarnos comprender qué tan bien estamos haciendo frente nuestras ambiciones inclusión diversidad. Realmente agradeceríamos pudiera tomarse unos momentos para completarlo. Tenga seguridad que los gerentes contratación tienen acceso esta información, utiliza ninguna parte del proceso selección trataremos información forma confidencial utilizaremos forma anónima.',\n",
       "       \"propos l’offre d’emploi ALTEN MAROC filiale leader mondial l'Ingénierie Conseil Technologies (ICT), avec 100 collaborateurs monde dont plus 1100au Maroc répartis sur trois Centres d'Excellence Fès, Rabat Casa, nous accompagnons nos clients offrant des solutions d'ingénierie agiles novatrices pour les grands donneurs d'ordre mondial dans les secteurs l'automobile, l'aéronautique, les réseaux télécoms, Software Outils.\",\n",
       "       'propos l’offre d’emploi ALTEN MAROC filiale leader mondial l’Ingénierie Conseil Technologies (ICT), avec 000 collaborateurs monde dont plus 1000 Maroc répartis sur trois Centres d’Excellence Fès, Rabat Casa, nous accompagnons nos clients offrant des solutions d’ingénierie agiles novatrices pour les grands donneurs d’ordre mondial dans les secteurs l’automobile, l’aéronautique, les réseaux télécoms, Software Outils. Rejoindre ALTEN MAROC c’est bénéficier',\n",
       "       'propos l’offre d’emploi Responsabilités: Identification peuplement des jeux données Conception exécution des cas tests pour les pair tests, recette, pré prod (tests manuels) Conception exécution des cas tests pour les pair tests, recette, pré prod (tests automatisés) Analyse des résultats',\n",
       "       'propos l’offre d’emploi Sta jij sterk schoenen wil jij altijd het beste voor klant? Dan MediaMarkt Apeldoorn jouw werkplek! Wij helpen jou specialist worden, mocht nog niet benodigde kennis beschikken. Jij zorgt voor best mogelijke oplossing voor onze klant aan servicekant jij bezorgt onze klant een glimlach aan kassakant. Als kassa/service medewerker opereer jij het gebied van customer care, cash line, info-services, aftersales, reparaties callcenter. Jij houdt van een afwisselende baan staat het liefst nooit stil. Samen met jouw team ben jij verantwoordelijk voor totaaloplossing voor onze klant! MediaMarkt een energiek klantgericht bedrijf. Wij stimuleren eigen initiatief geloven erin dat met passie alles kan bereiken krijgt daarom bij ons ruimte vrijheid jouw werk jouw manier doen. kun jij klantgerichtheid jouw manier laten zien samen met collega’s enthousiasmeren het beste resultaat neer zetten. Ben jij klaar voor deze uitdaging? Dan horen graag van je! Ben jij klaar voor deze uitdaging? Zie jij jezelf helemaal aan slag bij MediaMarkt? Solliciteer direct nemen zeer snel contact met jou op!',\n",
       "       \"propos l’offre d’emploi Lancée 2016, GuestReady est première conciergerie pour les locations d’hébergements courte moyenne durée. Présente dans pays travers monde, notre start-up propose service clés main propriétaire s’occupe rien Création d'annonces, photos, sélection accueil des voyageurs, communication avec l'hôte, ménage, nous nous chargeons l’ensemble processus location. Nos propriétaires capitalisent ainsi sereinement sur leurs biens immobiliers les touristes, eux, sont reçus comme des rois GuestReady quelques chiffres, c’est L’aventure vous tente Rejoindre GestReady France, c’est avoir l’opportunité d’intégrer une structure jeune (moyenne d’âge ans) avec une culture start-up malgré force notre groupe (nous sommes désormais près 300 travers monde). C’est aussi l’occasion rejoindre une équipe internationale nous avons des bureaux Portugal, Angleterre, Espagne, Malaisie Dubaï Powered JazzHR YCznF6MEVb\",\n",
       "       'propos l’offre d’emploi DESCRIPTION service que vous allez intégrer pour mission principale d’assurer gérer relation avec les entités métiers présentes Rabat (AXA France, AXA Direct France AXA Assistance), adressant garantissant bonne exécution des sujets (applicatifs d’infrastructure) l’entité AXA Services Maroc (ASM).',\n",
       "       \"propos l’offre d’emploi Votre Mission Chez Cegedim Fondée 1969, Cegedim est une entreprise innovante technologies services spécialisée dans gestion des flux numériques l’écosystème santé BtoB, ainsi que dans conception logiciels métier destinés aux professionnels santé l’assurance. Cegedim compte plus 300 collaborateurs dans plus pays réalisé chiffre d’affaires près 500 millions d’euros 2020. Pour notre filiale Cegedim SRH, nous recherchons un(e) Consultant Technico fonctionnel F/H. Aujourd'hui présent France, Royaume-Uni Suisse, Cegedim SRH s'appuie sur propre solution TEAMSRH pour offrir ses clients des prestations d'externalisation adaptées évolutives leurs systèmes d'information paie (du SaaS BPO).Avec plus 300 000 salariés gérés, succès Cegedim SRH repose sur qualité ses solutions une valeur partagée avec l'ensemble ses collaborateurs sens service rendu client. Rejoindre Cegedim SRH, c'est participer développement d'un acteur majeur des solutions des services pour gestion paie des RH. C'est également saisir l'opportunité travailler dans environnement technologique haut niveau, dans cadre projets riches variés. Après une phase formation interne sein nos équipes, vous prenez charge les demandes d’évolution SIRH nos clients. cela vous participez l’analyse des besoins, réalisez paramétrage développement spécifique, et, vous prenez charge phase tests pour valider les résultats. moyen terme, vous pouvez être amené participer pilotage réalisation projets significatifs pour nos clients déjà production. Votre Mission Chez Cegedim Après une phase formation interne sur notre produit puis sein nos équipes, Consultant SIRH (H/F) prend charge les demandes d’évolution SIRH nos clients. Principales Missions Assurer paramétrage (ou développement spécifique nécessaire)Réaliser les tests unitairesParticiper l’intégration solution (scenarii tests…)Réaliser reportingPrésenter point d’avancement (demandes d’arbitrage, difficultés rencontrées, etc) lors des revues avec Chef ProjetAider préparation conduite des comités projet Participer formation paramétrage nouveaux collaborateursSoutenir par l’apport son expertise fonctionnelle et/ou technique l’ensemble des consultantsParticiper l’élaboration documentation nécessairePonctuellement, assister nos clients phase recetteAssurer formation l’assistance auprès nos clients formation supérieure (Bac+ 4/5 plus) informatique, avec des connaissances JavaScript SQL, Des connaissances aussi gestion projet méthodologie AGILE sont appréciées. vous possédez idéalement une première expérience pas dans les projets mise œuvre maintenance système d’information. Vous avez développé une réelle appétence pour les outils informatiques, celui-ci vous attire particulièrement. Vous souhaitez évoluer vers paramétrage afin d’associer maîtrise technique vos connaissances fonctionnelles. Personne dynamique proactive, vous possédez sens service client. Vous aimez travail équipe avez envie vous investir dans poste alliant l’expertise produit résolution problèmes concrets orientés métier paie RH. Compétences SQL\",\n",
       "       'propos l’offre d’emploi Description Syngenta Group one world’s leading agriculture innovation companies, roots going back 250 years. Its 48,000 people across 100 countries strive transform agriculture breakthrough products technologies play vital role enabling food chain feed world safely, sustainably respect planet. Swiss headquartered Chinese-owned, Group draws strength four business units Syngenta Crop Protection headquartered Switzerland, Syngenta Seeds headquartered United States, ADAMA headquartered Israel, Syngenta Group China provide industry-leading ways serve customers everywhere. Our employees reflect diversity customers, markets operate communities serve. invite help shape future agriculture. Syngenta, believe every employee role play safely feeding world taking care planet. role based Rabat Morocco Maghreb Interested? look forward receiving online application including relevant documents (cover letter, CV). Syngenta Equal Opportunity Employer discriminate recruitment, hiring, training, promotion employment practices reasons race, color, religion, gender, national origin, age, sexual orientation, marital veteran status, disability, legally protected status. MAR-Rabat Marketing Other digital, marketing, communication, media, processus, Interface Homme Machine (IHM), data, cloud, agronomie, agriculture',\n",
       "       \"propos l’offre d’emploi Poste pourvoir dès que possible Vous souhaitez évoluer sein d’un des leaders mondiaux, acteur référence, Audit, Conseil, Financial Advisory, Risk Advisory Juridique Fiscal Rejoignez-nous Rejoindre Deloitte, c’est faire choix d’une carrière professionnelle riche, innovante stimulante. C’est participer une grande diversité missions responsabilisantes auprès nos clients, et, chaque jour, cultiver développer ses compétences. C’est également faire partie d’un cabinet acteur transition écologique socialement engagé, via notre Fondation d’entreprise, qui privilégie l’entraide partage L'activité Financial Advisory Deloitte accompagne ses clients dans réalisation leurs projets stratégiques vue d'améliorer leurs performances financières organisationnelles. Ainsi, vous intervenez auprès nos clients nationaux internationaux présents dans les secteurs l'industrie, des services, des institutions financières des fonds d'investissement sur des opérations fusions-acquisitions, restructuration, conseil financier, due-diligence, d'évaluation, gestion des litiges d'audit fraudes. département Transaction Services FSI (Financial Services Industry) est consacré secteur financier (banques, assurances, sociétés gestion, etc.). accompagne ses clients, principalement des acteurs majeurs finance des fonds d'investissements, dans l'acquisition cession d'actifs. rejoignant département basé Casablanca, vous interviendrez avec nos équipes françaises dans cadre d'opérations d'acquisition cession d'entreprises, pour compte d'institutions financières dans secteur l'assurance vie non-vie France l'international dans secteur banque détail, banque d'investissement, brokerage l'asset management France l'international. Vous intégrerez des équipes engagées sur différentes typologies missions coordination avec d'autres départements Deloitte (M&A, évaluation, fiscalité, réglementaire, intégration... sein d'équipes dynamiques, vous serez amené(e) participer Votre Parcours rejoignant Deloitte, vous aurez l'opportunité développer set compétences, partagées avec notre réseau international, structurées autour des dimensions suivantes leadership, métier spécialité. Grâce aux missions variées auxquelles vous participerez programme formations proposé, vous pourrez renforcer progressivement ces compétences, acquérir nouvelles progresser ainsi sein notre firme. Poste basé Casablanca.\",\n",
       "       'propos l’offre d’emploi Job description: Fonctions relatives aux réclamations clients',\n",
       "       'propos l’offre d’emploi Pour compte notre client bancaire (Banque Participative), nous sommes recherche dun consultant MOE qui ait des connaissances Base donnée Oracle, PL/SQL. Une expérience banque participative Connaissance Core Banking iMAL est plus',\n",
       "       'propos l’offre d’emploi POSITION: Project Management Intern LOCATION: Remote SCHEDULE: Part-time (10-20h/week) About Brainnest: The business management training company headquartered Bremen, Germany. success-driven firm provides management advisory contracting services customized help companies different industries business management problems. Brainnest runs, leads, manages complex projects initiatives. begun scratch network professionals, Ph.D. holders, highly skilled personnel bring business table practical academic years experience form concrete blueprint company designed. Since 2020, offer combination expertise, proficiency, commitment, leveraging deep industry experience applying analytical rigor deliver exceptional results companies. proudly provide top-class consulting training services wide range industries around world. well-equipped team, advanced tools, modern methodologies correctly utilize offer clients makes best fields. Our team looking Project Management Intern join upcoming weeks. This position great aspiring project management professional looking work business-critical projects gain relevant work experience. Your profile: You learn to: Brainnest, we’re committed equal employment opportunity regardless race, color, ancestry, religion, sex, national origin, sexual orientation, age, citizenship, marital status, disability, gender, gender identity expression, veteran status. strive equal opportunity workplace.',\n",
       "       \"propos l’offre d’emploi TE, unleash potential working people diverse backgrounds industries create safer, sustainable connected world. Job Overview Connectivity's Quality Control Reliability Teams ensure product product components comply specifications quality standards. They test inspect products performance integrity criteria ensure product quality reliability, determine suitability product release. Building Effective Teams Managing Measuring Work Motivating Others Values: Integrity, Accountability, Teamwork, Innovation SET Strategy, Execution, Talent (for managers)\",\n",
       "       'propos l’offre d’emploi Dans contexte multiculturel sein division d’Orange Business Services, vous travaillerez sein solution Unit Ordering, elle charge gestion des applications commande catalogue associé sur périmètre Orange Business Services. Vos missions sur poste Gestion support Applicatif Dans environnement développements mode Agile Assurer support applicatif technico fonctionnel sur les applications domaine prise commande dans contexte digital, nécessitant une très forte réactivité.',\n",
       "       'propos l’offre d’emploi Poste Dans cadre notre développement continu, nous recrutons des conseillers clients franco-anglophones pour notre site basé Agadir Vous aurez pour mission conseiller les clients leur apporter les réponses adaptées leurs besoins. Nous vous offrons une rémunération attractive dont une prime mensuelle langue rendement une formation adaptée pour vous accompagner dans réussite votre mission',\n",
       "       'propos l’offre d’emploi Description poste tant qu’acteur mondial l’externalisation, Solutions combine depuis plus ans leadership, personnel processus pour fournir ses clients monde entier service sur mesure une expertise répondant aux normes internationales. groupe propose une offre globale multisectorielle basée sur domaines solutions Télécommunications, Commerce détail, Services publics Services financiers. Fondé 2007, nous sommes leader canadien l’externalisation l’expérience client. Solutions Contact Center compte actuellement plus 500 employés répartis dans centres d’exploitation nouveau bureau soutien clientèle Casablanca, Maroc. Solutions est recherche candidats qui maîtrisent l’anglais pour joindre notre équipe. vous êtes intéressé par technologie aimez parler aux clients par téléphone via chat ligne, nous aimerions vous rencontrer travailler avec vous Maroc Nous offrons lieu travail dynamique, des horaires travail flexibles, une rémunération des récompenses généreuses. L’agent service clientèle est chargé répondre aux demandes des clients par téléphone, par chat direct par courriel. Les types demandes des clients peuvent inclure, mais sont pas limités l’assistance pour placement des commandes les problèmes livraison, les modifications compte, les informations sur les produits/services, l’assistance sur site web. candidat idéal doit posséder solides compétences communication s’engager offrir service clientèle premier ordre. QUE NOUS OFFRONS Responsabilités Avantages',\n",
       "       \"propos l’offre d’emploi Vous serez responsable mise œuvre suivi des projets relation avec domaine Finance. titre, vous aurez pour principales missions Etudier faisabilité projet examiner/valider l'adéquation solution besoin\",\n",
       "       \"propos l’offre d’emploi Vos missions quotidien sein Direction Service d'Entreprises rattaché responsable sécurité physique, vous serez charge piloteage, mise place l'entretien des dispositifs sécurité électronique afin garantir sécurité des biens des personnes sein banque. Vos mission principales seront comme suit Vous êtes ingénieur diplômé d'un cursus universitaire spécialisé électronique électromécanique. Vous avez une expérience dans domaine sécurité physique. Chez Société Générale, nous sommes convaincus que les personnes sont moteurs changement, que monde demain sera fait toutes leurs initiatives, des plus petites aux plus ambitieuses. Que vous nous rejoigniez pour quelques mois, quelques années toute votre carrière, ensemble nous avons les moyens d’avoir impact positif sur l’avenir. Créer, oser, innover, entreprendre font partie notre ADN. vous aussi vous souhaitez être dans l’action, évoluer dans environnement stimulant bienveillant, vous sentir utile quotidien développer renforcer votre expertise, nous sommes faits pour nous rencontrer\",\n",
       "       \"propos l’offre d’emploi Graduated reputable universities International law firm experience required Excellent command French English (both written spoken) Solid academic record preferable Dynamic team player Whatever area expertise, find range career opportunities Clifford Chance. And wherever you’re heading, Clifford Chance true ambitions. Our firm, work people span jurisdictions, cultures languages. world commercial success increasingly relies globalisation, offer clients truly international perspective, offer people rewarding stimulating career. We're proud approachable, friendly team-based way working. Highly professional self-assured, entrepreneurial streak, people happy share expertise knowledge. find like work Clifford Chance Morplease visit add site link Clifford Chance understand true asset people. Inclusion good team families, firm society. committed treating employees applicants fairly equally regardless gender, gender identity expression, marital civil partnership status, race, colour, national ethnic origin, social economic background, disability, religious belief, sexual orientation, age. This applies recruitment selection, terms conditions employment including pay, promotion, training, transfer every aspect employment. Our goal deliver equality opportunity, equality aspiration equality experience everyone works firm. Find Morocco-Casablanca-Casablanca Casablanca Experienced Lawyers Permanent Nov 30, 2021 Ongoing\",\n",
       "       \"propos l’offre d’emploi Position Snapshot Company: Nestlé Maroc Location: Jadida Full-time Manage perform design, implementation start-up phases capital investment projects manufacturing site, within defined scope resposibility specialisation. Ensure objectives investment project charter, design specifications Nestlé standards implemented adhered to. Nestlé, largest food beverage company. 308,000 employees strong driven purpose enhancing quality life contributing healthier future. Our values rooted respect: respect ourselves, respect others, respect diversity respect future. With CHF 9#4 billion sales 2018, expansive presence 413 factories countries. believe people important asset, we'll offer dynamic inclusive international working environment many opportunities across different businesses, functions geographies, working diverse teams cultures. Want learn more? Visit www.nestle.com.\",\n",
       "       'propos l’offre d’emploi Nome Local: Surrey Weybridge Data Publicação: Aug 2022 Hello. We’re Haleon. new world-leading consumer health company. Shaped join us. Together, we’re improving everyday health billions people. growing innovating global portfolio category-leading brands including Sensodyne, Panadol, Advil, Voltaren, Theraflu, Otrivin, Centrum unique combination deep human understanding trusted science. What’s more, we’re achieving company we’re control of. environment we’re co-creating. And culture that’s uniquely ours. Care join us. isn’t question. Are looking Senior Global role accelerate growth development? so, could exciting opportunity explore. Role primarily focused power continuous market data* accelerate business performance. You part Business Intelligence team primarily focused understanding improving coverage data purchasing perspective, improving relationships global data vendors, driving best practice frameworks data usage data purchasing. This high-profile role global remit requires ability effectively manage influence teams stakeholders across different countries levels also good understanding different data types sources helps business identify opportunities accelerate growth. You enjoy challenge problem solving, fast-paced environment requires think act quickly address business priorities strategic day day. You identify prioritise vision objectives support next generation performance reporting execution Business Intelligence excellence. You build relationships work effectively multiple teams within Business Insights Analytics, Finance, Marketing many others. APPLICATION CLOSING DATE 19th August Please take copy Job Description, available post closure advert. When applying role, please use ‘cover letter’ online application describe meet competencies role, outlined job requirements above. The information provided cover letter used assess application. Haleon embrace diverse workforce creating inclusive environment celebrates unique perspectives, generates curiosity create unmatched understanding other, promotes fair equitable outcomes everyone. We’re striving create climate celebrate diversity forms treating respect, listening different viewpoints, supporting communities, creating workplace authentic self belongs thrives. believe agile working culture roles. flexibility important you, encourage explore hiring team opportunities are. Como uma empresa impulsionada por nossos valores Foco paciente, Transparência, Respeito Integridade, sabemos que inclusão diversidade são essenciais para que possamos ter sucesso. Queremos que todos nossos colegas prosperem GSK, trazendo suas experiências únicas, garantindo que sintam bem continuem crescendo suas carreiras. Como candidato papel, queremos que você sinta mesma maneira. Acreditamos uma cultura trabalho ágil para todos nossos papéis. flexibilidade importante para você, nós encorajamos você explorar com nossa equipe contratação quais são oportunidades. Não hesite nos contatar quiser discutir quaisquer ajustes nosso processo que possam ajudá-lo demonstrar seus pontos fortes capacidades. Você pode nos ligar 0808 234 4391, enviar email Ukdiversity.recruitment@gsk.com. inscrever, pediremos que você compartilhe algumas informações pessoais que são voluntárias. Isso será usado para nos ajudar entender quão bem estamos indo contra nossas ambições inclusão diversidade. Nós agradeceríamos muito você pudesse levar alguns momentos para completá-lo. Não preocupe, Gerentes Contratação não têm acesso essas informações, não são usados nenhuma parte processo seleção nós trataremos suas informações confidencialmente usaremos isso anonimamente.',\n",
       "       'propos l’offre d’emploi Principales missions poste tant que partenaire business, vous êtes garant déclinaison politique développement accompagnez les managers métiers les collaborateurs dans tous les aspects Vos principales missions sont Constituer point d’entrée des collaborateurs',\n",
       "       'propos l’offre d’emploi SkillCheck Master’s degree Graduate Business Engineering Schools Strong Team Management strong ability motivate inspire colleagues drive, implement support change. Strong leadership communication skills, able give direction cross-functional environment, able motivate support colleagues functional areas.'],\n",
       "      dtype='<U6138')"
      ]
     },
     "execution_count": 147,
     "metadata": {},
     "output_type": "execute_result"
    }
   ],
   "source": [
    "from sklearn.neighbors import NearestNeighbors\n",
    "nbrs = NearestNeighbors(n_neighbors=1, n_jobs=-1).fit(tfidf)\n",
    "test = (df['test'].values.astype('U'))\n",
    "test"
   ]
  },
  {
   "cell_type": "code",
   "execution_count": null,
   "id": "0e93db43",
   "metadata": {},
   "outputs": [],
   "source": [
    "from sklearn.neighbors import NearestNeighbors\n",
    "nbrs = NearestNeighbors(n_neighbors=1, n_jobs=-1).fit(tfidf)\n",
    "test = (df['Description'].values.astype('U'))"
   ]
  },
  {
   "cell_type": "code",
   "execution_count": 148,
   "id": "31d3fdc8",
   "metadata": {},
   "outputs": [],
   "source": [
    "def getNearestN(query):\n",
    "  queryTFIDF_ = vectorizer.transform(query)\n",
    "  distances, indices = nbrs.kneighbors(queryTFIDF_)\n",
    "  return distances, indices"
   ]
  },
  {
   "cell_type": "code",
   "execution_count": 149,
   "id": "ce354056",
   "metadata": {},
   "outputs": [],
   "source": [
    "distances, indices = getNearestN(test)\n",
    "test = list(test) \n",
    "matches = []\n"
   ]
  },
  {
   "cell_type": "code",
   "execution_count": 151,
   "id": "5e296601",
   "metadata": {},
   "outputs": [],
   "source": [
    "for i,j in enumerate(indices):\n",
    "    dist=round(distances[i][0],2)\n",
    "  \n",
    "    temp = [dist]\n",
    "    matches.append(temp)\n",
    "    \n",
    "matches = pd.DataFrame(matches, columns=['Match confidence'])"
   ]
  },
  {
   "cell_type": "code",
   "execution_count": 152,
   "id": "5f5c1f13",
   "metadata": {},
   "outputs": [
    {
     "data": {
      "text/html": [
       "<div>\n",
       "<style scoped>\n",
       "    .dataframe tbody tr th:only-of-type {\n",
       "        vertical-align: middle;\n",
       "    }\n",
       "\n",
       "    .dataframe tbody tr th {\n",
       "        vertical-align: top;\n",
       "    }\n",
       "\n",
       "    .dataframe thead th {\n",
       "        text-align: right;\n",
       "    }\n",
       "</style>\n",
       "<table border=\"1\" class=\"dataframe\">\n",
       "  <thead>\n",
       "    <tr style=\"text-align: right;\">\n",
       "      <th></th>\n",
       "      <th>index</th>\n",
       "      <th>Title</th>\n",
       "      <th>Company</th>\n",
       "      <th>Location</th>\n",
       "    </tr>\n",
       "  </thead>\n",
       "  <tbody>\n",
       "    <tr>\n",
       "      <th>0</th>\n",
       "      <td>0</td>\n",
       "      <td>Candidature spontanée</td>\n",
       "      <td>Kenz'up</td>\n",
       "      <td>Casablanca, Casablanca-Settat, Maroc</td>\n",
       "    </tr>\n",
       "    <tr>\n",
       "      <th>1</th>\n",
       "      <td>118</td>\n",
       "      <td>Lead Cloud Architect - Azure- ES</td>\n",
       "      <td>Haleon</td>\n",
       "      <td>Maroc</td>\n",
       "    </tr>\n",
       "    <tr>\n",
       "      <th>2</th>\n",
       "      <td>119</td>\n",
       "      <td>Ingénieur Test et recette Sénior</td>\n",
       "      <td>ALTEN MAROC</td>\n",
       "      <td>Rabat, Rabat-Salé-Kénitra, Maroc</td>\n",
       "    </tr>\n",
       "    <tr>\n",
       "      <th>3</th>\n",
       "      <td>120</td>\n",
       "      <td>Parttime verkoopmedewerker</td>\n",
       "      <td>MediaMarkt Nederland</td>\n",
       "      <td>Maroc</td>\n",
       "    </tr>\n",
       "    <tr>\n",
       "      <th>4</th>\n",
       "      <td>121</td>\n",
       "      <td>Consultant Pilote Moyens et Validation</td>\n",
       "      <td>ALTEN</td>\n",
       "      <td>Rabat, Rabat-Salé-Kénitra, Maroc</td>\n",
       "    </tr>\n",
       "    <tr>\n",
       "      <th>5</th>\n",
       "      <td>122</td>\n",
       "      <td>Trésorier général</td>\n",
       "      <td>Royal Mansour Marrakech</td>\n",
       "      <td>Marrakesh-Safi, Maroc</td>\n",
       "    </tr>\n",
       "    <tr>\n",
       "      <th>6</th>\n",
       "      <td>123</td>\n",
       "      <td>Chef de projet SIRH</td>\n",
       "      <td>CREDIT DU MAROC</td>\n",
       "      <td>Casablanca et périphérie</td>\n",
       "    </tr>\n",
       "    <tr>\n",
       "      <th>7</th>\n",
       "      <td>124</td>\n",
       "      <td>Test Engineer</td>\n",
       "      <td>Lear Corporation</td>\n",
       "      <td>Rabat, Rabat-Salé-Kénitra, Maroc</td>\n",
       "    </tr>\n",
       "    <tr>\n",
       "      <th>8</th>\n",
       "      <td>125</td>\n",
       "      <td>Directeur technique (H/F) - Océan Indien</td>\n",
       "      <td>Fed Africa</td>\n",
       "      <td>Rabat, Rabat-Salé-Kénitra, Maroc</td>\n",
       "    </tr>\n",
       "    <tr>\n",
       "      <th>9</th>\n",
       "      <td>126</td>\n",
       "      <td>Product Manager</td>\n",
       "      <td>Commlogik</td>\n",
       "      <td>Casablanca, Casablanca-Settat, Maroc</td>\n",
       "    </tr>\n",
       "  </tbody>\n",
       "</table>\n",
       "</div>"
      ],
      "text/plain": [
       "   index                                     Title                  Company  \\\n",
       "0      0                     Candidature spontanée                  Kenz'up   \n",
       "1    118          Lead Cloud Architect - Azure- ES                   Haleon   \n",
       "2    119          Ingénieur Test et recette Sénior              ALTEN MAROC   \n",
       "3    120                Parttime verkoopmedewerker     MediaMarkt Nederland   \n",
       "4    121    Consultant Pilote Moyens et Validation                    ALTEN   \n",
       "5    122                         Trésorier général  Royal Mansour Marrakech   \n",
       "6    123                       Chef de projet SIRH          CREDIT DU MAROC   \n",
       "7    124                             Test Engineer         Lear Corporation   \n",
       "8    125  Directeur technique (H/F) - Océan Indien               Fed Africa   \n",
       "9    126                           Product Manager                Commlogik   \n",
       "\n",
       "                               Location  \n",
       "0  Casablanca, Casablanca-Settat, Maroc  \n",
       "1                                 Maroc  \n",
       "2      Rabat, Rabat-Salé-Kénitra, Maroc  \n",
       "3                                 Maroc  \n",
       "4      Rabat, Rabat-Salé-Kénitra, Maroc  \n",
       "5                 Marrakesh-Safi, Maroc  \n",
       "6              Casablanca et périphérie  \n",
       "7      Rabat, Rabat-Salé-Kénitra, Maroc  \n",
       "8      Rabat, Rabat-Salé-Kénitra, Maroc  \n",
       "9  Casablanca, Casablanca-Settat, Maroc  "
      ]
     },
     "execution_count": 152,
     "metadata": {},
     "output_type": "execute_result"
    }
   ],
   "source": [
    "df['match']=matches['Match confidence']\n",
    "df1=df.sort_values('match')\n",
    "df1[['Title', 'Company','Location']].head(10).reset_index()"
   ]
  },
  {
   "cell_type": "code",
   "execution_count": null,
   "id": "5b16431e",
   "metadata": {},
   "outputs": [],
   "source": []
  }
 ],
 "metadata": {
  "kernelspec": {
   "display_name": "Python 3 (ipykernel)",
   "language": "python",
   "name": "python3"
  },
  "language_info": {
   "codemirror_mode": {
    "name": "ipython",
    "version": 3
   },
   "file_extension": ".py",
   "mimetype": "text/x-python",
   "name": "python",
   "nbconvert_exporter": "python",
   "pygments_lexer": "ipython3",
   "version": "3.10.10"
  }
 },
 "nbformat": 4,
 "nbformat_minor": 5
}
